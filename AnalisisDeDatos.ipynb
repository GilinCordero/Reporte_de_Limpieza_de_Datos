{
 "cells": [
  {
   "cell_type": "markdown",
   "id": "40e3a732",
   "metadata": {},
   "source": [
    "# Análisis y Limpieza de Datos -- Procedimiento para Catalogar Cáncer Luminal A y B\n",
    "\n",
    "Este archivo contiene el proceso de limpieza, exploración y análisis de la base de datos del proyecto de de cáncer de mama en base a la información de los diagnosticos de diversos pacientes registrados por la Secretaria de Salud.\n",
    "\n",
    "mas info sobre lo q buscamos\n",
    "\n",
    "\n",
    "---"
   ]
  },
  {
   "cell_type": "code",
   "execution_count": 23,
   "id": "0927935f",
   "metadata": {},
   "outputs": [
    {
     "name": "stdout",
     "output_type": "stream",
     "text": [
      "Numero de columnas/variables: 109 \n",
      "\n",
      "Columnas identificadas: \n",
      " ['Id', 'Fecha_De_Registro', 'Fecha_De_Nacimiento', 'Fecha_De_Dx_Biopsia', 'Edad_Al_Dx_(Años)', 'Fecha_1°_Consulta_Om_Cecan', 'Peso_Al_Dx', 'Talla_Al_Dx', 'Imc', 'Edo_Menopausia_Dx', 'Preservación_De_La_Fertilidad', 'Prueba_Genetica', 'Resultado_Panel_Genético', 'Otra_Mutación', 'Significado', 'Cm_Bilateral', 'Cm_Asociado_Al_Embarazo', 'Ec', 'T', 'N', 'M', 'Tipo_Histológico', 'Otro', 'Grado', 'Er', 'Er_%', 'Pr', 'Pr_%', 'Her2_/_Neu', 'Her2_Ihq_+++', 'Fish/Sish', 'Ki67', 'Ki67_%', 'Ilv', 'Tils', 'Tils_%', 'Patología_Rev_Cecan', 'Tx_Neoadyuvante', 'Tx_Neoadyuvante_Cecan', 'Quimioterapia_Neoadyuvante', 'Esquema_Qt_Neoadyuvante', 'Antiher2_Neoadyuvante', 'Esquema_Antiher2_Neoadyuvante', 'Inmunoterapia_Neoadyuvante', 'Comentarios_Tx_Neoadyuvante', 'Respuesta_Patológica_Completa', 'Ypt', 'Ypn', 'Rbc', 'Fecha_De_Cx', 'Cx_Cecan', 'Tipo_Cx_Mama', 'Manejo_Axila', 'Requirio_2°_Cx_De_Mama', 'Cual', 'Rt_Adyuvante', 'Tipo_Rt_Ady', 'Analógos_Gnrh_Como_Protector_Ovarico', 'Tx_Adyuvante', 'Tx_Adyuvante_Cecan', 'Quimioterapia_Adyuvante', 'Esquema_Qt_Adyuvante', 'Capecitabina', 'Antiher2_Adyuvante', 'Esquema_Antiher2_Adyuvante', 'Inmunoterapia_Adyuvante', 'Olaparib_Adyuvante', 'Abemaciclib_Adyuvante', 'Adyuvancia_Endócrina_', 'Adyuvancia_Endócrina_Cecan', 'Tipo_Tx_Antihormonal_(2_Primeros_Años)', 'Switch_Hormonal_(Despues_De_2_Años)', 'Supresión_Ovarica', 'Fecha_Inicio_Adyuvancia_Endócrina', 'Fin_De_Adyuvancia_Endócrina', 'Fecha_Fin_Adyuvancia_Endócrina', 'Adyuvancia_Extendida', 'Ac._Zoledrónico/Denosumab_Adyuvante', 'Recurrencia_Local', 'Fecha_1°_Recurrencia_Local', 'Sle_(Meses)', 'No._De_Recurrencias_Locales', 'Recurrencia_Sistémica', 'Fecha_1°_Recurrencia_Sistémica', 'Slem_(Meses)', 'Biopsia_De_1°_Recurrencia_(Local_O_Sistémica)', 'Er_Recurrencia', 'Pr_Recurrencia', 'Her2_Ihq_Recurrencia', 'Her2_Ihq_+++.1', 'Icdk_4/6_Enfermedad__Metastásica', 'Tipo_Icdk_4/6', 'Inmunoterapia_Enfermedad_Metastásica', 'Tipo_Inmunoterapia', 'Iparp_Enfermedad_Metastásica', 'Estado_En_Ultimo_Seguimiento', 'Fecha_De_Ultimo_Seguimiento', 'Fecha_De_Muerte', 'Seguimiento_(Meses)', 'Sg_(Meses)', 'Muerte_Por_Ca_De_Mama', 'Ooforectomía', 'Mastecomía_Contralateral_2°_Tiempo', 'Embarazo_Post_Cm', '2°_Primario', 'Sitio', 'Protocolo_De_Investigación_', 'Nombre_De_Protocolo', 'Comentarios']\n"
     ]
    }
   ],
   "source": [
    "import pandas as pd\n",
    "\n",
    "#Leemos la Base de Datos\n",
    "df = pd.read_csv('./resources/2025_08_27 BD Proy Salud.csv', encoding='latin1')\n",
    "pd.set_option('display.max_columns', None)\n",
    "\n",
    "#hay dos Er_%, uno con _ y oyto con espacio, lo mismo con Pr_%, elimina los que tienen espacios\n",
    "df = df.drop(columns=['ER %', 'PR %'])\n",
    "\n",
    "\n",
    "#Renombramos columnas para agregar _ entre espacios\n",
    "\n",
    "df.columns = df.columns.str.replace(' ', '_')\n",
    "df.columns = df.columns.str.title()\n",
    "\n",
    "#Sacamos columnas disponibles para facilidad de lectura posterior\n",
    "unique_columns = df.columns.tolist()\n",
    "\n",
    "print(\"Numero de columnas/variables:\", len(unique_columns), \"\\n\")\n",
    "print(\"Columnas identificadas: \\n\", unique_columns)\n",
    "\n",
    "\n"
   ]
  },
  {
   "cell_type": "markdown",
   "id": "692a6b98",
   "metadata": {},
   "source": [
    "En esta acción inicial: \n",
    "- Modificamos los nombres de las columnas para manipularlas de manera más sencilla\n",
    "- Modificamos nombres similares para las variables de recurrencia de PR y ER para no ser confundidas con el porcentaje de PR y ER\n",
    "- Retornamos una lista de todas las columnas para identificar mejoras, errores, y verificar cuales no son más utiles de una manera más eficiente\n"
   ]
  },
  {
   "cell_type": "markdown",
   "id": "88e28679",
   "metadata": {},
   "source": [
    "---\n",
    "##### Creamos una sub-tabla con las columnas que corresponden a el objetivo de nuestro análisis\n",
    "\n",
    "Seleccionamos datos de interés para el análisis de cáncer luminal, además de datos demográficos básicos\n"
   ]
  },
  {
   "cell_type": "code",
   "execution_count": 24,
   "id": "ac6f6fae",
   "metadata": {},
   "outputs": [
    {
     "data": {
      "text/html": [
       "<div>\n",
       "<style scoped>\n",
       "    .dataframe tbody tr th:only-of-type {\n",
       "        vertical-align: middle;\n",
       "    }\n",
       "\n",
       "    .dataframe tbody tr th {\n",
       "        vertical-align: top;\n",
       "    }\n",
       "\n",
       "    .dataframe thead th {\n",
       "        text-align: right;\n",
       "    }\n",
       "</style>\n",
       "<table border=\"1\" class=\"dataframe\">\n",
       "  <thead>\n",
       "    <tr style=\"text-align: right;\">\n",
       "      <th></th>\n",
       "      <th>Id</th>\n",
       "      <th>Fecha_De_Registro</th>\n",
       "      <th>Fecha_De_Nacimiento</th>\n",
       "      <th>Fecha_De_Dx_Biopsia</th>\n",
       "      <th>Edad_Al_Dx_(Años)</th>\n",
       "      <th>Fecha_1°_Consulta_Om_Cecan</th>\n",
       "      <th>Peso_Al_Dx</th>\n",
       "      <th>Talla_Al_Dx</th>\n",
       "      <th>Er_%</th>\n",
       "      <th>Pr_%</th>\n",
       "      <th>Her2_/_Neu</th>\n",
       "      <th>Her2_Ihq_+++</th>\n",
       "      <th>Fish/Sish</th>\n",
       "      <th>Ki67_%</th>\n",
       "      <th>Grado</th>\n",
       "    </tr>\n",
       "  </thead>\n",
       "  <tbody>\n",
       "    <tr>\n",
       "      <th>0</th>\n",
       "      <td>1003-24</td>\n",
       "      <td>1/5/2024</td>\n",
       "      <td>9/28/1977</td>\n",
       "      <td>11/24/2023</td>\n",
       "      <td>46</td>\n",
       "      <td>1/5/2024</td>\n",
       "      <td>76</td>\n",
       "      <td>1.64</td>\n",
       "      <td>10</td>\n",
       "      <td>100</td>\n",
       "      <td>Negativo</td>\n",
       "      <td>1+</td>\n",
       "      <td>No aplica</td>\n",
       "      <td>5</td>\n",
       "      <td>2</td>\n",
       "    </tr>\n",
       "    <tr>\n",
       "      <th>1</th>\n",
       "      <td>1008-18</td>\n",
       "      <td>1/25/2018</td>\n",
       "      <td>4/1/1961</td>\n",
       "      <td>1/12/2018</td>\n",
       "      <td>56</td>\n",
       "      <td>1/25/2018</td>\n",
       "      <td>102</td>\n",
       "      <td>1.61</td>\n",
       "      <td>10</td>\n",
       "      <td>5</td>\n",
       "      <td>Negativo</td>\n",
       "      <td>1+</td>\n",
       "      <td>No aplica</td>\n",
       "      <td>No aplica</td>\n",
       "      <td>3</td>\n",
       "    </tr>\n",
       "    <tr>\n",
       "      <th>2</th>\n",
       "      <td>1008-20</td>\n",
       "      <td>12/3/2019</td>\n",
       "      <td>2/10/1979</td>\n",
       "      <td>1/4/2020</td>\n",
       "      <td>40</td>\n",
       "      <td>1/17/2020</td>\n",
       "      <td>47</td>\n",
       "      <td>1.58</td>\n",
       "      <td>No aplica</td>\n",
       "      <td>No aplica</td>\n",
       "      <td>No aplica</td>\n",
       "      <td>No aplica</td>\n",
       "      <td>No aplica</td>\n",
       "      <td>No aplica</td>\n",
       "      <td>No aplica</td>\n",
       "    </tr>\n",
       "    <tr>\n",
       "      <th>3</th>\n",
       "      <td>1009-19</td>\n",
       "      <td>1/14/2019</td>\n",
       "      <td>1/23/1975</td>\n",
       "      <td>11/6/2018</td>\n",
       "      <td>43</td>\n",
       "      <td>1/14/2019</td>\n",
       "      <td>46</td>\n",
       "      <td>1.52</td>\n",
       "      <td>0</td>\n",
       "      <td>60</td>\n",
       "      <td>Negativo</td>\n",
       "      <td>1+</td>\n",
       "      <td>No aplica</td>\n",
       "      <td>20</td>\n",
       "      <td>1</td>\n",
       "    </tr>\n",
       "    <tr>\n",
       "      <th>4</th>\n",
       "      <td>1009-23</td>\n",
       "      <td>1/23/2023</td>\n",
       "      <td>11/30/1974</td>\n",
       "      <td>12/30/2022</td>\n",
       "      <td>48</td>\n",
       "      <td>1/25/2023</td>\n",
       "      <td>89</td>\n",
       "      <td>1.58</td>\n",
       "      <td>80</td>\n",
       "      <td>90</td>\n",
       "      <td>Negativo</td>\n",
       "      <td>0+</td>\n",
       "      <td>No aplica</td>\n",
       "      <td>No aplica</td>\n",
       "      <td>2</td>\n",
       "    </tr>\n",
       "  </tbody>\n",
       "</table>\n",
       "</div>"
      ],
      "text/plain": [
       "        Id Fecha_De_Registro Fecha_De_Nacimiento Fecha_De_Dx_Biopsia  \\\n",
       "0  1003-24          1/5/2024           9/28/1977          11/24/2023   \n",
       "1  1008-18         1/25/2018            4/1/1961           1/12/2018   \n",
       "2  1008-20         12/3/2019           2/10/1979            1/4/2020   \n",
       "3  1009-19         1/14/2019           1/23/1975           11/6/2018   \n",
       "4  1009-23         1/23/2023          11/30/1974          12/30/2022   \n",
       "\n",
       "   Edad_Al_Dx_(Años) Fecha_1°_Consulta_Om_Cecan  Peso_Al_Dx  Talla_Al_Dx  \\\n",
       "0                 46                   1/5/2024          76         1.64   \n",
       "1                 56                  1/25/2018         102         1.61   \n",
       "2                 40                  1/17/2020          47         1.58   \n",
       "3                 43                  1/14/2019          46         1.52   \n",
       "4                 48                  1/25/2023          89         1.58   \n",
       "\n",
       "        Er_%       Pr_% Her2_/_Neu Her2_Ihq_+++  Fish/Sish     Ki67_%  \\\n",
       "0         10        100  Negativo            1+  No aplica          5   \n",
       "1         10          5   Negativo           1+  No aplica  No aplica   \n",
       "2  No aplica  No aplica  No aplica    No aplica  No aplica  No aplica   \n",
       "3          0         60   Negativo           1+  No aplica         20   \n",
       "4         80         90   Negativo           0+  No aplica  No aplica   \n",
       "\n",
       "       Grado  \n",
       "0          2  \n",
       "1          3  \n",
       "2  No aplica  \n",
       "3          1  \n",
       "4          2  "
      ]
     },
     "execution_count": 24,
     "metadata": {},
     "output_type": "execute_result"
    }
   ],
   "source": [
    "#Seleccionamos datos de interés para el análisis de cáncer luminal, además de datos demográficos básicos\n",
    "\n",
    "luminal_columns = [\n",
    "    'Id', 'Fecha_De_Registro', 'Fecha_De_Nacimiento', 'Fecha_De_Dx_Biopsia', 'Edad_Al_Dx_(Años)',\n",
    "    'Fecha_1°_Consulta_Om_Cecan', 'Peso_Al_Dx', 'Talla_Al_Dx', 'Er_%', 'Pr_%', 'Her2_/_Neu',\n",
    "    'Her2_Ihq_+++','Fish/Sish', 'Ki67_%', 'Grado'\n",
    "]\n",
    "\n",
    "#Nuevo DataFrame con columnas de interés\n",
    "luminalDf = df[luminal_columns]\n",
    "\n",
    "#Mostramos todas las columnas y los primeros registros\n",
    "pd.set_option('display.max_columns', None)\n",
    "luminalDf.head()\n",
    "\n"
   ]
  },
  {
   "cell_type": "markdown",
   "id": "5ffb2c45",
   "metadata": {},
   "source": [
    "# Antes de comenzar...\n",
    "\n",
    "Previo a cualquier análisis, necesitamos limpiar repeticiones, datos redundantes entre otros errores\n"
   ]
  },
  {
   "cell_type": "code",
   "execution_count": 3,
   "id": "40cac6e5",
   "metadata": {},
   "outputs": [
    {
     "name": "stdout",
     "output_type": "stream",
     "text": [
      "Cantidad de registros: 1366\n"
     ]
    }
   ],
   "source": [
    "#Observamos la cantidad de registros que tenemos\n",
    "\n",
    "print(\"Cantidad de registros:\", luminalDf.shape[0])\n"
   ]
  },
  {
   "cell_type": "code",
   "execution_count": 4,
   "id": "ad1a9d8b",
   "metadata": {},
   "outputs": [
    {
     "name": "stdout",
     "output_type": "stream",
     "text": [
      "Cantidad de registros después de la limpieza: 1351\n"
     ]
    }
   ],
   "source": [
    "#Limpiamos IDs repetidos y nulos, nos quedamos con los primeros repetidos\n",
    "\n",
    "df = df.drop_duplicates(subset=['Id'], keep='first')\n",
    "df = df[df['Id'].notna()]\n",
    "\n",
    "#Mostramos la cantidad de registros después de la limpieza\n",
    "print(\"Cantidad de registros después de la limpieza:\", df.shape[0])"
   ]
  },
  {
   "cell_type": "markdown",
   "id": "bbaaf73f",
   "metadata": {},
   "source": [
    "Al menos 15 registros estaban duplicados o nulos"
   ]
  },
  {
   "cell_type": "markdown",
   "id": "7253e8e4",
   "metadata": {},
   "source": [
    "---\n",
    "##### Analizamos los tipos de datos de las columnas"
   ]
  },
  {
   "cell_type": "code",
   "execution_count": 5,
   "id": "2ccefa1e",
   "metadata": {},
   "outputs": [
    {
     "name": "stdout",
     "output_type": "stream",
     "text": [
      "Tipos de datos de cada columna:\n",
      "Id                             object\n",
      "Fecha_De_Registro              object\n",
      "Fecha_De_Nacimiento            object\n",
      "Fecha_De_Dx_Biopsia            object\n",
      "Edad_Al_Dx_(Años)               int64\n",
      "Fecha_1°_Consulta_Om_Cecan     object\n",
      "Peso_Al_Dx                      int64\n",
      "Talla_Al_Dx                   float64\n",
      "Er_%                           object\n",
      "Er_%                           object\n",
      "Pr_%                           object\n",
      "Pr_%                           object\n",
      "Her2_/_Neu                     object\n",
      "Her2_Ihq_+++                   object\n",
      "Fish/Sish                      object\n",
      "Ki67_%                         object\n",
      "Grado                          object\n",
      "dtype: object\n"
     ]
    }
   ],
   "source": [
    "\n",
    "pd.set_option('display.max_rows', None)\n",
    "\n",
    "print(\"Tipos de datos de cada columna:\")\n",
    "print(luminalDf.dtypes)\n"
   ]
  },
  {
   "cell_type": "markdown",
   "id": "121b5823",
   "metadata": {},
   "source": [
    "##### Podemos identificar varios tipos de datos que no son correctos\n",
    "\n",
    "- Podemos convertir las fechas a datetime.\n",
    "- Los valores de Er_% y Pr_% deben ser convertidos a enteros.\n",
    "\n"
   ]
  },
  {
   "cell_type": "code",
   "execution_count": 37,
   "id": "8e4a649d",
   "metadata": {},
   "outputs": [
    {
     "name": "stdout",
     "output_type": "stream",
     "text": [
      "Fecha_De_Registro             datetime64[ns]\n",
      "Fecha_De_Nacimiento           datetime64[ns]\n",
      "Fecha_De_Dx_Biopsia           datetime64[ns]\n",
      "Fecha_1°_Consulta_Om_Cecan    datetime64[ns]\n",
      "dtype: object\n"
     ]
    }
   ],
   "source": [
    "\n",
    "#Cambiamos fechas a datetime\n",
    "for col in luminalDf.columns:\n",
    "    if 'Fecha' in col:\n",
    "        luminalDf[col] = pd.to_datetime(luminalDf[col], errors='coerce') \n",
    "\n",
    "columnasFechas = [col for col in luminalDf.columns if 'Fecha' in col]\n",
    "\n",
    "\n",
    "print(luminalDf[columnasFechas].dtypes)"
   ]
  },
  {
   "cell_type": "code",
   "execution_count": 41,
   "id": "2bc51b87",
   "metadata": {},
   "outputs": [
    {
     "name": "stdout",
     "output_type": "stream",
     "text": [
      "Er_%      Int64\n",
      "Pr_%      Int64\n",
      "Grado     Int64\n",
      "Ki67_%    Int64\n",
      "dtype: object\n"
     ]
    }
   ],
   "source": [
    "\n",
    "luminalDf = luminalDf.copy()  \n",
    "luminalDf['Er_%'] = pd.to_numeric(luminalDf['Er_%'], errors='coerce').astype('Int64')\n",
    "luminalDf['Pr_%'] = pd.to_numeric(luminalDf['Pr_%'], errors='coerce').astype('Int64')\n",
    "luminalDf['Grado'] = pd.to_numeric(luminalDf['Grado'], errors='coerce').astype('Int64')\n",
    "luminalDf['Ki67_%'] = pd.to_numeric(luminalDf['Ki67_%'], errors='coerce').astype('Int64')\n",
    "\n",
    "\n",
    "print(luminalDf[['Er_%', 'Pr_%', 'Grado', 'Ki67_%']].dtypes)\n",
    "\n"
   ]
  },
  {
   "cell_type": "markdown",
   "id": "5d5bffed",
   "metadata": {},
   "source": [
    "---\n",
    "Una vez que corregimos los tipos de datos, verificamos que si estén correctos\n"
   ]
  },
  {
   "cell_type": "code",
   "execution_count": 42,
   "id": "647d3eaf",
   "metadata": {},
   "outputs": [
    {
     "name": "stdout",
     "output_type": "stream",
     "text": [
      "Id                                    object\n",
      "Fecha_De_Registro             datetime64[ns]\n",
      "Fecha_De_Nacimiento           datetime64[ns]\n",
      "Fecha_De_Dx_Biopsia           datetime64[ns]\n",
      "Edad_Al_Dx_(Años)                      int64\n",
      "Fecha_1°_Consulta_Om_Cecan    datetime64[ns]\n",
      "Peso_Al_Dx                             int64\n",
      "Talla_Al_Dx                          float64\n",
      "Er_%                                   Int64\n",
      "Pr_%                                   Int64\n",
      "Her2_/_Neu                            object\n",
      "Her2_Ihq_+++                          object\n",
      "Fish/Sish                             object\n",
      "Ki67_%                                 Int64\n",
      "Grado                                  Int64\n",
      "dtype: object\n"
     ]
    }
   ],
   "source": [
    "print(luminalDf.dtypes)"
   ]
  },
  {
   "cell_type": "markdown",
   "id": "0cd73524",
   "metadata": {},
   "source": [
    "##### Buscamos datos únicos para cada columna \n",
    "\n",
    "Identificamos datos únicos para observar irregularidades, duplicados, valores "
   ]
  },
  {
   "cell_type": "code",
   "execution_count": null,
   "id": "5cd249c3",
   "metadata": {},
   "outputs": [
    {
     "name": "stdout",
     "output_type": "stream",
     "text": [
      "Columna: Er_%\n",
      "Valores únicos:\n",
      "<IntegerArray>\n",
      "[  10, <NA>,    0,   80,  100,   15,   20,   90,    2,   85,   70,   12,   98,\n",
      "   60,    5,   95,   30,   50,    4,   65,   40,    7,    1,   55,    8,    6,\n",
      "   75,    3,   91,   25,   96,   35,   99,    9,   16]\n",
      "Length: 35, dtype: Int64\n",
      "\n",
      "Columna: Pr_%\n",
      "Valores únicos:\n",
      "<IntegerArray>\n",
      "[ 100,    5, <NA>,   60,   90,    0,   95,   40,   80,    2,   20,   70,   10,\n",
      "    3,   50,   25,   30,    8,    7,   35,   65,   75,   15,    1,   18,   22,\n",
      "   12,    4,   85,   99,   98,    6,   88,   92,   68,    9]\n",
      "Length: 36, dtype: Int64\n",
      "\n",
      "Columna: Her2_/_Neu\n",
      "Valores únicos:\n",
      "['Negativo ' 'Negativo' 'No aplica' 'Positivo' 'Desconocido']\n",
      "\n",
      "Columna: Her2_Ihq_+++\n",
      "Valores únicos:\n",
      "['1+' 'No aplica' '0+' '2+' '3+' 'Desconocido']\n",
      "\n",
      "Columna: Fish/Sish\n",
      "Valores únicos:\n",
      "['No aplica' 'Negativo' 'Positivo' 'Desconocido']\n",
      "\n",
      "Columna: Ki67_%\n",
      "Valores únicos:\n",
      "['5' 'No aplica' '20' '0' '90' '10' '50' '40' '60' '8' '65' '80' '95' '25'\n",
      " '30' '70' '15' '45' '3' '12' '47' '14' '7' '35' '2' '1' '75' '87' '18'\n",
      " '100' '24' '55' '4' '22' '67' '72' '11' '85' '9' '27' '89']\n",
      "\n",
      "Columna: Grado\n",
      "Valores únicos:\n",
      "['2' '3' 'No aplica' '1' 'No evaluable' 'Desconocido']\n",
      "\n"
     ]
    }
   ],
   "source": [
    "#Obtenemos datos únicos para cada columna para estas columnas 'Er_%', 'Pr_%', 'Her2_/_Neu', que añada cada columna a un csv independiente\n",
    "\n",
    "try:\n",
    "    for col in ['Er_%', 'Pr_%', 'Her2_/_Neu', 'Her2_Ihq_+++','Fish/Sish', 'Ki67_%', 'Grado']:\n",
    "        if col in luminalDf.columns:\n",
    "            print(f'Columna: {col}\\nValores únicos:\\n{luminalDf[col].unique()}\\n')\n",
    "        else:\n",
    "            print(f'Columna {col} no encontrada en luminalDf\\n')\n",
    "            \n",
    "except Exception as e:\n",
    "    pass\n"
   ]
  },
  {
   "cell_type": "markdown",
   "id": "1b7aa7ed",
   "metadata": {},
   "source": [
    "---\n",
    "##### Hacemos la limpieza de los datos, esto incluyo:\n",
    "\n",
    "- Reemplazar las filas numéricas con valores de \"No Aplica\" y \"Desconocido\" por NaN, con la justificación\n",
    "  de que no cuentan con valores para catalogar en Luminal A y Luminal B"
   ]
  },
  {
   "cell_type": "code",
   "execution_count": null,
   "id": "3386a9e4",
   "metadata": {},
   "outputs": [
    {
     "name": "stdout",
     "output_type": "stream",
     "text": [
      "Columna: Er_%\n",
      "Valores únicos:\n",
      "<IntegerArray>\n",
      "[  10, <NA>,    0,   80,  100,   20,   90,   15,   12,   70,   60,   50,    4,\n",
      "   40,    7,   30,   55,    5,    6,   95,   85,    3,    8,   98,   99,    9]\n",
      "Length: 26, dtype: Int64\n",
      "\n",
      "Columna: Pr_%\n",
      "Valores únicos:\n",
      "<IntegerArray>\n",
      "[ 100,    5, <NA>,   60,   90,    0,   95,   40,   80,    2,   20,   70,   10,\n",
      "    3,   50,   25,   30,    8,    7,   35,   65,   75,   15,    1,   18,   22,\n",
      "   12,    4,   85,   99,   98,    6,   88,   92,   68,    9]\n",
      "Length: 36, dtype: Int64\n",
      "\n",
      "Columna: Her2_/_Neu\n",
      "Valores únicos:\n",
      "['Negativo' nan 'Positivo']\n",
      "\n",
      "Columna: Her2_Ihq_+++\n",
      "Valores únicos:\n",
      "['1+' nan '0+' '2+' '3+']\n",
      "\n",
      "Columna: Fish/Sish\n",
      "Valores únicos:\n",
      "[nan 'Negativo' 'Positivo']\n",
      "\n",
      "Columna: Ki67_%\n",
      "Valores únicos:\n",
      "<IntegerArray>\n",
      "[   5, <NA>,   20,    0,   90,   40,   60,   95,   70,   10,   25,   30,   80,\n",
      "    8,   15,    1,   12,   18,   35,    2,   67,    3,   45,   50]\n",
      "Length: 24, dtype: Int64\n",
      "\n",
      "Columna: Grado\n",
      "Valores únicos:\n",
      "<IntegerArray>\n",
      "[ 100,    5, <NA>,   60,   90,    0,   95,   40,   80,    2,   20,   70,   10,\n",
      "    3,   50,   25,   30,    8,    7,   35,   65,   75,   15,    1,   18,   22,\n",
      "   12,    4,   85,   99,   98,    6,   88,   92,   68,    9]\n",
      "Length: 36, dtype: Int64\n",
      "\n"
     ]
    }
   ],
   "source": [
    "#Borrar todas las filas que tengan en sus celdas de las columnas categóricas los valores 'No Aplica' o 'Desconocido'\n",
    "\n",
    "import numpy as np\n",
    "categorical_cols = ['Her2_/_Neu', 'Her2_Ihq_+++', 'Fish/Sish', 'Grado']  \n",
    "# Reemplazar 'No Aplica' y 'Desconocido' por np.nan en las columnas categóricas\n",
    "\n",
    "\n",
    "for col in categorical_cols:\n",
    "    luminalDf[col] = luminalDf[col].replace(['No Aplica', 'No aplica', 'Desconocido', 'desconocido'], np.nan)\n",
    "\n",
    "\n",
    "#Eliminar datos duplicados en las columnas categóricas, usar strip para verificar duplicidad\n",
    "\n",
    "luminalDf['Her2_/_Neu'] = luminalDf['Her2_/_Neu'].str.strip()\n",
    "luminalDf['Her2_Ihq_+++'] = luminalDf['Her2_Ihq_+++'].str.strip()\n",
    "luminalDf['Fish/Sish'] = luminalDf['Fish/Sish'].str.strip()\n",
    "luminalDf = luminalDf.drop_duplicates(subset=categorical_cols)\n",
    "\n",
    "try:\n",
    "    for col in ['Er_%', 'Pr_%', 'Her2_/_Neu', 'Her2_Ihq_+++','Fish/Sish', 'Ki67_%', 'Grado']:\n",
    "        if col in luminalDf.columns:\n",
    "            print(f'Columna: {col}\\nValores únicos:\\n{luminalDf[col].unique()}\\n')\n",
    "\n",
    "        else:\n",
    "            print(f'Columna {col} no encontrada en luminalDf\\n')\n",
    "            \n",
    "except Exception as e:\n",
    "    pass"
   ]
  }
 ],
 "metadata": {
  "kernelspec": {
   "display_name": "Python 3",
   "language": "python",
   "name": "python3"
  },
  "language_info": {
   "codemirror_mode": {
    "name": "ipython",
    "version": 3
   },
   "file_extension": ".py",
   "mimetype": "text/x-python",
   "name": "python",
   "nbconvert_exporter": "python",
   "pygments_lexer": "ipython3",
   "version": "3.13.1"
  }
 },
 "nbformat": 4,
 "nbformat_minor": 5
}
