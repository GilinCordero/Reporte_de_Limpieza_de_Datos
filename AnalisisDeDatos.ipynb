{
 "cells": [
  {
   "cell_type": "markdown",
   "id": "40e3a732",
   "metadata": {},
   "source": [
    "# Procedimiento para Catalogar Cáncer Luminal A y B\n",
    "\n",
    "Este archivo contiene el proceso de limpieza, exploración y análisis de la base de datos del proyecto de de cáncer de mama en base a la información de los diagnosticos de diversos pacientes registrados por la Secretaria de Salud y la información de utilidad proporcionada por el Ingeniero Jesús Esteban Cienfuegos Zurita.\n",
    "\n",
    "Utilizamos la metodología CRISSP para la comprensión del negocio, la comprensión de los datos reales, y la preparación de los datos. Esto nos permite comenzar a formar una estructuración de los datos y de lo que conocemos de ellos para observar a fondo que información nos pueden proporcionar; la información que buscamos nos permitirá desarrollar un modelo predictivo cómo parte de las siguientes fases del proyecto.\n",
    "\n",
    "\n",
    "\n",
    "---"
   ]
  },
  {
   "cell_type": "markdown",
   "id": "bfdaea3e",
   "metadata": {},
   "source": [
    "##### 1. Exploración y Limpieza de Datos"
   ]
  },
  {
   "cell_type": "code",
   "execution_count": 850,
   "id": "f39ce7ef",
   "metadata": {},
   "outputs": [
    {
     "data": {
      "text/html": [
       "<div>\n",
       "<style scoped>\n",
       "    .dataframe tbody tr th:only-of-type {\n",
       "        vertical-align: middle;\n",
       "    }\n",
       "\n",
       "    .dataframe tbody tr th {\n",
       "        vertical-align: top;\n",
       "    }\n",
       "\n",
       "    .dataframe thead th {\n",
       "        text-align: right;\n",
       "    }\n",
       "</style>\n",
       "<table border=\"1\" class=\"dataframe\">\n",
       "  <thead>\n",
       "    <tr style=\"text-align: right;\">\n",
       "      <th></th>\n",
       "      <th>ID</th>\n",
       "      <th>Fecha de Registro</th>\n",
       "      <th>Fecha de Nacimiento</th>\n",
       "      <th>Fecha de Dx biopsia</th>\n",
       "      <th>Edad al Dx (años)</th>\n",
       "      <th>Fecha 1° consulta OM CECAN</th>\n",
       "      <th>Peso al Dx</th>\n",
       "      <th>Talla al Dx</th>\n",
       "      <th>IMC</th>\n",
       "      <th>Edo Menopausia Dx</th>\n",
       "      <th>Preservación de la fertilidad</th>\n",
       "      <th>Prueba Genetica</th>\n",
       "      <th>Resultado panel genético</th>\n",
       "      <th>Otra mutación</th>\n",
       "      <th>Significado</th>\n",
       "      <th>CM bilateral</th>\n",
       "      <th>CM asociado al embarazo</th>\n",
       "      <th>EC</th>\n",
       "      <th>T</th>\n",
       "      <th>N</th>\n",
       "      <th>M</th>\n",
       "      <th>Tipo histológico</th>\n",
       "      <th>Otro</th>\n",
       "      <th>Grado</th>\n",
       "      <th>ER</th>\n",
       "      <th>ER_%</th>\n",
       "      <th>PR</th>\n",
       "      <th>PR_%</th>\n",
       "      <th>HER2 / NEU</th>\n",
       "      <th>HER2 IHQ +++</th>\n",
       "      <th>FISH/SISH</th>\n",
       "      <th>Ki67</th>\n",
       "      <th>Ki67_%</th>\n",
       "      <th>ILV</th>\n",
       "      <th>TILs</th>\n",
       "      <th>TILs_%</th>\n",
       "      <th>Patología Rev CECAN</th>\n",
       "      <th>Tx Neoadyuvante</th>\n",
       "      <th>Tx Neoadyuvante CECAN</th>\n",
       "      <th>Quimioterapia Neoadyuvante</th>\n",
       "      <th>Esquema QT Neoadyuvante</th>\n",
       "      <th>AntiHER2 Neoadyuvante</th>\n",
       "      <th>Esquema AntiHER2 Neoadyuvante</th>\n",
       "      <th>Inmunoterapia Neoadyuvante</th>\n",
       "      <th>Comentarios Tx Neoadyuvante</th>\n",
       "      <th>Respuesta patológica completa</th>\n",
       "      <th>ypT</th>\n",
       "      <th>ypN</th>\n",
       "      <th>RBC</th>\n",
       "      <th>Fecha de Cx</th>\n",
       "      <th>Cx CECAN</th>\n",
       "      <th>Tipo Cx mama</th>\n",
       "      <th>Manejo Axila</th>\n",
       "      <th>Requirio 2° Cx de mama</th>\n",
       "      <th>Cual</th>\n",
       "      <th>RT Adyuvante</th>\n",
       "      <th>Tipo RT ady</th>\n",
       "      <th>Analógos GnRH como protector ovarico</th>\n",
       "      <th>Tx Adyuvante</th>\n",
       "      <th>Tx Adyuvante CECAN</th>\n",
       "      <th>Quimioterapia Adyuvante</th>\n",
       "      <th>Esquema QT Adyuvante</th>\n",
       "      <th>Capecitabina</th>\n",
       "      <th>AntiHER2 Adyuvante</th>\n",
       "      <th>Esquema AntiHER2 Adyuvante</th>\n",
       "      <th>Inmunoterapia Adyuvante</th>\n",
       "      <th>Olaparib Adyuvante</th>\n",
       "      <th>Abemaciclib Adyuvante</th>\n",
       "      <th>Adyuvancia endócrina</th>\n",
       "      <th>Adyuvancia endócrina CECAN</th>\n",
       "      <th>Tipo Tx antihormonal (2 primeros años)</th>\n",
       "      <th>Switch hormonal (despues de 2 años)</th>\n",
       "      <th>Supresión ovarica</th>\n",
       "      <th>Fecha Inicio adyuvancia endócrina</th>\n",
       "      <th>Fin de adyuvancia endócrina</th>\n",
       "      <th>Fecha fin adyuvancia endócrina</th>\n",
       "      <th>Adyuvancia extendida</th>\n",
       "      <th>Ac. Zoledrónico/Denosumab adyuvante</th>\n",
       "      <th>Recurrencia Local</th>\n",
       "      <th>Fecha 1° recurrencia local</th>\n",
       "      <th>SLE (meses)</th>\n",
       "      <th>No. de recurrencias locales</th>\n",
       "      <th>Recurrencia sistémica</th>\n",
       "      <th>Fecha 1° recurrencia sistémica</th>\n",
       "      <th>SLEm (meses)</th>\n",
       "      <th>Biopsia de 1° recurrencia (local o sistémica)</th>\n",
       "      <th>ER recurrencia</th>\n",
       "      <th>ER %</th>\n",
       "      <th>PR recurrencia</th>\n",
       "      <th>PR %</th>\n",
       "      <th>HER2 IHQ recurrencia</th>\n",
       "      <th>HER2 IHQ +++.1</th>\n",
       "      <th>iCDK 4/6 enfermedad  metastásica</th>\n",
       "      <th>Tipo iCDK 4/6</th>\n",
       "      <th>Inmunoterapia enfermedad metastásica</th>\n",
       "      <th>Tipo inmunoterapia</th>\n",
       "      <th>iPARP enfermedad metastásica</th>\n",
       "      <th>Estado en ultimo seguimiento</th>\n",
       "      <th>Fecha de ultimo seguimiento</th>\n",
       "      <th>Fecha de muerte</th>\n",
       "      <th>Seguimiento (meses)</th>\n",
       "      <th>SG (meses)</th>\n",
       "      <th>Muerte por Ca de mama</th>\n",
       "      <th>Ooforectomía</th>\n",
       "      <th>Mastecomía contralateral 2° tiempo</th>\n",
       "      <th>Embarazo post CM</th>\n",
       "      <th>2° Primario</th>\n",
       "      <th>Sitio</th>\n",
       "      <th>Protocolo de investigación</th>\n",
       "      <th>Nombre de protocolo</th>\n",
       "      <th>COMENTARIOS</th>\n",
       "    </tr>\n",
       "  </thead>\n",
       "  <tbody>\n",
       "    <tr>\n",
       "      <th>0</th>\n",
       "      <td>1003-24</td>\n",
       "      <td>1/5/2024</td>\n",
       "      <td>9/28/1977</td>\n",
       "      <td>11/24/2023</td>\n",
       "      <td>46</td>\n",
       "      <td>1/5/2024</td>\n",
       "      <td>76</td>\n",
       "      <td>1.64</td>\n",
       "      <td>28.26</td>\n",
       "      <td>Pre</td>\n",
       "      <td>No aplica</td>\n",
       "      <td>No</td>\n",
       "      <td>No se realizo</td>\n",
       "      <td>NaN</td>\n",
       "      <td>No se realizo</td>\n",
       "      <td>No</td>\n",
       "      <td>No</td>\n",
       "      <td>IIA</td>\n",
       "      <td>1</td>\n",
       "      <td>1</td>\n",
       "      <td>0</td>\n",
       "      <td>CDI</td>\n",
       "      <td>NaN</td>\n",
       "      <td>2</td>\n",
       "      <td>Positivo</td>\n",
       "      <td>10</td>\n",
       "      <td>Positivo</td>\n",
       "      <td>100</td>\n",
       "      <td>Negativo</td>\n",
       "      <td>1+</td>\n",
       "      <td>No aplica</td>\n",
       "      <td>Si</td>\n",
       "      <td>5</td>\n",
       "      <td>No</td>\n",
       "      <td>Desconocido</td>\n",
       "      <td>No aplica</td>\n",
       "      <td>No</td>\n",
       "      <td>No</td>\n",
       "      <td>No</td>\n",
       "      <td>No aplica</td>\n",
       "      <td>No aplica</td>\n",
       "      <td>No aplica</td>\n",
       "      <td>No aplica</td>\n",
       "      <td>No aplica</td>\n",
       "      <td>NaN</td>\n",
       "      <td>No aplica</td>\n",
       "      <td>No aplica</td>\n",
       "      <td>No aplica</td>\n",
       "      <td>No aplica</td>\n",
       "      <td>12/10/2023</td>\n",
       "      <td>No</td>\n",
       "      <td>Mastectomia radical</td>\n",
       "      <td>Disección axilar</td>\n",
       "      <td>No</td>\n",
       "      <td>No aplica</td>\n",
       "      <td>Si</td>\n",
       "      <td>15 Fx</td>\n",
       "      <td>No aplica</td>\n",
       "      <td>Si</td>\n",
       "      <td>Si</td>\n",
       "      <td>Si</td>\n",
       "      <td>AC-T</td>\n",
       "      <td>No</td>\n",
       "      <td>No</td>\n",
       "      <td>No aplica</td>\n",
       "      <td>No</td>\n",
       "      <td>No</td>\n",
       "      <td>No</td>\n",
       "      <td>Si</td>\n",
       "      <td>Si</td>\n",
       "      <td>Tamoxifeno</td>\n",
       "      <td>No</td>\n",
       "      <td>No aplica</td>\n",
       "      <td>8/22/2024</td>\n",
       "      <td>No</td>\n",
       "      <td>No aplica</td>\n",
       "      <td>Por definir</td>\n",
       "      <td>No</td>\n",
       "      <td>No</td>\n",
       "      <td>No aplica</td>\n",
       "      <td>NaN</td>\n",
       "      <td>0</td>\n",
       "      <td>No</td>\n",
       "      <td>No aplica</td>\n",
       "      <td>NaN</td>\n",
       "      <td>No aplica</td>\n",
       "      <td>No aplica</td>\n",
       "      <td>No aplica</td>\n",
       "      <td>No aplica</td>\n",
       "      <td>No aplica</td>\n",
       "      <td>No aplica</td>\n",
       "      <td>No aplica</td>\n",
       "      <td>No aplica</td>\n",
       "      <td>No aplica</td>\n",
       "      <td>No aplica</td>\n",
       "      <td>NaN</td>\n",
       "      <td>No aplica</td>\n",
       "      <td>Viva sin enfermedad</td>\n",
       "      <td>8/22/2024</td>\n",
       "      <td>No aplica</td>\n",
       "      <td>7</td>\n",
       "      <td>0</td>\n",
       "      <td>No</td>\n",
       "      <td>No</td>\n",
       "      <td>No</td>\n",
       "      <td>No</td>\n",
       "      <td>No</td>\n",
       "      <td>NaN</td>\n",
       "      <td>No</td>\n",
       "      <td>NaN</td>\n",
       "      <td>--</td>\n",
       "    </tr>\n",
       "    <tr>\n",
       "      <th>1</th>\n",
       "      <td>1008-18</td>\n",
       "      <td>1/25/2018</td>\n",
       "      <td>4/1/1961</td>\n",
       "      <td>1/12/2018</td>\n",
       "      <td>56</td>\n",
       "      <td>1/25/2018</td>\n",
       "      <td>102</td>\n",
       "      <td>1.61</td>\n",
       "      <td>39.35</td>\n",
       "      <td>Post</td>\n",
       "      <td>No aplica</td>\n",
       "      <td>No</td>\n",
       "      <td>No se realizo</td>\n",
       "      <td>No aplica</td>\n",
       "      <td>No se realizo</td>\n",
       "      <td>No</td>\n",
       "      <td>No</td>\n",
       "      <td>IIA</td>\n",
       "      <td>2</td>\n",
       "      <td>0</td>\n",
       "      <td>0</td>\n",
       "      <td>CDI</td>\n",
       "      <td>No aplica</td>\n",
       "      <td>3</td>\n",
       "      <td>Positivo</td>\n",
       "      <td>10</td>\n",
       "      <td>Positivo</td>\n",
       "      <td>5</td>\n",
       "      <td>Negativo</td>\n",
       "      <td>1+</td>\n",
       "      <td>No aplica</td>\n",
       "      <td>No</td>\n",
       "      <td>No aplica</td>\n",
       "      <td>Si</td>\n",
       "      <td>Desconocido</td>\n",
       "      <td>No aplica</td>\n",
       "      <td>No</td>\n",
       "      <td>No</td>\n",
       "      <td>No aplica</td>\n",
       "      <td>No aplica</td>\n",
       "      <td>No aplica</td>\n",
       "      <td>No aplica</td>\n",
       "      <td>No aplica</td>\n",
       "      <td>No aplica</td>\n",
       "      <td>No aplica</td>\n",
       "      <td>No aplica</td>\n",
       "      <td>No aplica</td>\n",
       "      <td>No aplica</td>\n",
       "      <td>No aplica</td>\n",
       "      <td>2/12/2018</td>\n",
       "      <td>Si</td>\n",
       "      <td>Mastectomia total</td>\n",
       "      <td>Ganglio centinela</td>\n",
       "      <td>No</td>\n",
       "      <td>No aplica</td>\n",
       "      <td>No</td>\n",
       "      <td>No aplica</td>\n",
       "      <td>No aplica</td>\n",
       "      <td>Si</td>\n",
       "      <td>Si</td>\n",
       "      <td>Si</td>\n",
       "      <td>AC</td>\n",
       "      <td>No</td>\n",
       "      <td>No aplica</td>\n",
       "      <td>No aplica</td>\n",
       "      <td>No aplica</td>\n",
       "      <td>No</td>\n",
       "      <td>No</td>\n",
       "      <td>Si</td>\n",
       "      <td>Si</td>\n",
       "      <td>Exemestano</td>\n",
       "      <td>No</td>\n",
       "      <td>No aplica</td>\n",
       "      <td>12/7/2018</td>\n",
       "      <td>No</td>\n",
       "      <td>No aplica</td>\n",
       "      <td>No</td>\n",
       "      <td>No</td>\n",
       "      <td>No</td>\n",
       "      <td>No aplica</td>\n",
       "      <td>No aplica</td>\n",
       "      <td>0</td>\n",
       "      <td>Si</td>\n",
       "      <td>2/6/2020</td>\n",
       "      <td>23</td>\n",
       "      <td>Si</td>\n",
       "      <td>Positivo</td>\n",
       "      <td>15</td>\n",
       "      <td>Positivo</td>\n",
       "      <td>0</td>\n",
       "      <td>Negativo</td>\n",
       "      <td>0+</td>\n",
       "      <td>Si</td>\n",
       "      <td>Abemaciclib</td>\n",
       "      <td>No</td>\n",
       "      <td>No aplica</td>\n",
       "      <td>No</td>\n",
       "      <td>Viva con enfermedad</td>\n",
       "      <td>9/28/2023</td>\n",
       "      <td>No aplica</td>\n",
       "      <td>68</td>\n",
       "      <td>68</td>\n",
       "      <td>No</td>\n",
       "      <td>No</td>\n",
       "      <td>No</td>\n",
       "      <td>No</td>\n",
       "      <td>No</td>\n",
       "      <td>No aplica</td>\n",
       "      <td>No</td>\n",
       "      <td>No aplica</td>\n",
       "      <td>Metastasis en pulmon confirmado por TAC</td>\n",
       "    </tr>\n",
       "    <tr>\n",
       "      <th>2</th>\n",
       "      <td>1008-20</td>\n",
       "      <td>12/3/2019</td>\n",
       "      <td>2/10/1979</td>\n",
       "      <td>1/4/2020</td>\n",
       "      <td>40</td>\n",
       "      <td>1/17/2020</td>\n",
       "      <td>47</td>\n",
       "      <td>1.58</td>\n",
       "      <td>18.83</td>\n",
       "      <td>Pre</td>\n",
       "      <td>No</td>\n",
       "      <td>No</td>\n",
       "      <td>No se realizo</td>\n",
       "      <td>No aplica</td>\n",
       "      <td>No se realizo</td>\n",
       "      <td>Si</td>\n",
       "      <td>No</td>\n",
       "      <td>No aplica</td>\n",
       "      <td>No aplica</td>\n",
       "      <td>No aplica</td>\n",
       "      <td>No aplica</td>\n",
       "      <td>No aplica</td>\n",
       "      <td>No aplica</td>\n",
       "      <td>No aplica</td>\n",
       "      <td>No aplica</td>\n",
       "      <td>No aplica</td>\n",
       "      <td>No aplica</td>\n",
       "      <td>No aplica</td>\n",
       "      <td>No aplica</td>\n",
       "      <td>No aplica</td>\n",
       "      <td>No aplica</td>\n",
       "      <td>No aplica</td>\n",
       "      <td>No aplica</td>\n",
       "      <td>No aplica</td>\n",
       "      <td>No aplica</td>\n",
       "      <td>No aplica</td>\n",
       "      <td>Si</td>\n",
       "      <td>No</td>\n",
       "      <td>No aplica</td>\n",
       "      <td>No aplica</td>\n",
       "      <td>No aplica</td>\n",
       "      <td>No aplica</td>\n",
       "      <td>No aplica</td>\n",
       "      <td>No aplica</td>\n",
       "      <td>Tambien se comenta tratamiento neo ad con tamo...</td>\n",
       "      <td>No aplica</td>\n",
       "      <td>No aplica</td>\n",
       "      <td>No aplica</td>\n",
       "      <td>No aplica</td>\n",
       "      <td>9/10/2020</td>\n",
       "      <td>Si</td>\n",
       "      <td>Mastectomia bilateral</td>\n",
       "      <td>Disección axilar</td>\n",
       "      <td>No</td>\n",
       "      <td>No aplica</td>\n",
       "      <td>Si</td>\n",
       "      <td>15 Fx</td>\n",
       "      <td>No</td>\n",
       "      <td>Si</td>\n",
       "      <td>Si</td>\n",
       "      <td>No</td>\n",
       "      <td>No aplica</td>\n",
       "      <td>No</td>\n",
       "      <td>No aplica</td>\n",
       "      <td>No aplica</td>\n",
       "      <td>No</td>\n",
       "      <td>No</td>\n",
       "      <td>No</td>\n",
       "      <td>No aplica</td>\n",
       "      <td>No aplica</td>\n",
       "      <td>No aplica</td>\n",
       "      <td>No aplica</td>\n",
       "      <td>No aplica</td>\n",
       "      <td>No aplica</td>\n",
       "      <td>No aplica</td>\n",
       "      <td>No aplica</td>\n",
       "      <td>No aplica</td>\n",
       "      <td>No</td>\n",
       "      <td>No</td>\n",
       "      <td>No aplica</td>\n",
       "      <td>No aplica</td>\n",
       "      <td>0</td>\n",
       "      <td>No</td>\n",
       "      <td>No aplica</td>\n",
       "      <td>No aplica</td>\n",
       "      <td>No aplica</td>\n",
       "      <td>No aplica</td>\n",
       "      <td>No aplica</td>\n",
       "      <td>No aplica</td>\n",
       "      <td>No aplica</td>\n",
       "      <td>No aplica</td>\n",
       "      <td>No aplica</td>\n",
       "      <td>No aplica</td>\n",
       "      <td>No aplica</td>\n",
       "      <td>No aplica</td>\n",
       "      <td>No aplica</td>\n",
       "      <td>No aplica</td>\n",
       "      <td>Viva sin enfermedad</td>\n",
       "      <td>10/3/2023</td>\n",
       "      <td>No aplica</td>\n",
       "      <td>44</td>\n",
       "      <td>44</td>\n",
       "      <td>No</td>\n",
       "      <td>Si</td>\n",
       "      <td>No</td>\n",
       "      <td>No</td>\n",
       "      <td>Si</td>\n",
       "      <td>Mama contralateral</td>\n",
       "      <td>No</td>\n",
       "      <td>No aplica</td>\n",
       "      <td>--</td>\n",
       "    </tr>\n",
       "    <tr>\n",
       "      <th>3</th>\n",
       "      <td>1009-19</td>\n",
       "      <td>1/14/2019</td>\n",
       "      <td>1/23/1975</td>\n",
       "      <td>11/6/2018</td>\n",
       "      <td>43</td>\n",
       "      <td>1/14/2019</td>\n",
       "      <td>46</td>\n",
       "      <td>1.52</td>\n",
       "      <td>19.91</td>\n",
       "      <td>Pre</td>\n",
       "      <td>No aplica</td>\n",
       "      <td>No</td>\n",
       "      <td>No se realizo</td>\n",
       "      <td>No aplica</td>\n",
       "      <td>No se realizo</td>\n",
       "      <td>No</td>\n",
       "      <td>No</td>\n",
       "      <td>IA</td>\n",
       "      <td>1</td>\n",
       "      <td>0</td>\n",
       "      <td>0</td>\n",
       "      <td>CDI</td>\n",
       "      <td>No aplica</td>\n",
       "      <td>1</td>\n",
       "      <td>Negativo</td>\n",
       "      <td>0</td>\n",
       "      <td>Positivo</td>\n",
       "      <td>60</td>\n",
       "      <td>Negativo</td>\n",
       "      <td>1+</td>\n",
       "      <td>No aplica</td>\n",
       "      <td>Si</td>\n",
       "      <td>20</td>\n",
       "      <td>No</td>\n",
       "      <td>Desconocido</td>\n",
       "      <td>No aplica</td>\n",
       "      <td>No</td>\n",
       "      <td>No</td>\n",
       "      <td>No aplica</td>\n",
       "      <td>No aplica</td>\n",
       "      <td>No aplica</td>\n",
       "      <td>No aplica</td>\n",
       "      <td>No aplica</td>\n",
       "      <td>No aplica</td>\n",
       "      <td>No aplica</td>\n",
       "      <td>No aplica</td>\n",
       "      <td>No aplica</td>\n",
       "      <td>No aplica</td>\n",
       "      <td>No aplica</td>\n",
       "      <td>12/6/2018</td>\n",
       "      <td>No</td>\n",
       "      <td>Tumorectomia</td>\n",
       "      <td>Ganglio centinela</td>\n",
       "      <td>No</td>\n",
       "      <td>No aplica</td>\n",
       "      <td>Si</td>\n",
       "      <td>25 Fx</td>\n",
       "      <td>No aplica</td>\n",
       "      <td>Si</td>\n",
       "      <td>Si</td>\n",
       "      <td>No</td>\n",
       "      <td>No aplica</td>\n",
       "      <td>No</td>\n",
       "      <td>No aplica</td>\n",
       "      <td>No aplica</td>\n",
       "      <td>No</td>\n",
       "      <td>No</td>\n",
       "      <td>No</td>\n",
       "      <td>Si</td>\n",
       "      <td>Si</td>\n",
       "      <td>Tamoxifeno</td>\n",
       "      <td>No</td>\n",
       "      <td>No</td>\n",
       "      <td>2/27/2019</td>\n",
       "      <td>No</td>\n",
       "      <td>No aplica</td>\n",
       "      <td>Por definir</td>\n",
       "      <td>No</td>\n",
       "      <td>No</td>\n",
       "      <td>No aplica</td>\n",
       "      <td>No aplica</td>\n",
       "      <td>0</td>\n",
       "      <td>No</td>\n",
       "      <td>No aplica</td>\n",
       "      <td>No aplica</td>\n",
       "      <td>No aplica</td>\n",
       "      <td>No aplica</td>\n",
       "      <td>No aplica</td>\n",
       "      <td>No aplica</td>\n",
       "      <td>No aplica</td>\n",
       "      <td>No aplica</td>\n",
       "      <td>No aplica</td>\n",
       "      <td>No aplica</td>\n",
       "      <td>No aplica</td>\n",
       "      <td>No aplica</td>\n",
       "      <td>No aplica</td>\n",
       "      <td>No aplica</td>\n",
       "      <td>Viva sin enfermedad</td>\n",
       "      <td>9/27/2023</td>\n",
       "      <td>No aplica</td>\n",
       "      <td>56</td>\n",
       "      <td>58</td>\n",
       "      <td>No</td>\n",
       "      <td>No</td>\n",
       "      <td>No</td>\n",
       "      <td>No</td>\n",
       "      <td>No</td>\n",
       "      <td>No aplica</td>\n",
       "      <td>No</td>\n",
       "      <td>No aplica</td>\n",
       "      <td>Sin datos de recurrencia. Continúa con tamoxif...</td>\n",
       "    </tr>\n",
       "  </tbody>\n",
       "</table>\n",
       "</div>"
      ],
      "text/plain": [
       "        ID Fecha de Registro Fecha de Nacimiento Fecha de Dx biopsia  \\\n",
       "0  1003-24          1/5/2024           9/28/1977          11/24/2023   \n",
       "1  1008-18         1/25/2018            4/1/1961           1/12/2018   \n",
       "2  1008-20         12/3/2019           2/10/1979            1/4/2020   \n",
       "3  1009-19         1/14/2019           1/23/1975           11/6/2018   \n",
       "\n",
       "   Edad al Dx (años) Fecha 1° consulta OM CECAN  Peso al Dx  Talla al Dx  \\\n",
       "0                 46                   1/5/2024          76         1.64   \n",
       "1                 56                  1/25/2018         102         1.61   \n",
       "2                 40                  1/17/2020          47         1.58   \n",
       "3                 43                  1/14/2019          46         1.52   \n",
       "\n",
       "     IMC Edo Menopausia Dx Preservación de la fertilidad Prueba Genetica  \\\n",
       "0  28.26               Pre                     No aplica             No    \n",
       "1  39.35              Post                     No aplica             No    \n",
       "2  18.83              Pre                             No             No    \n",
       "3  19.91              Pre                      No aplica             No    \n",
       "\n",
       "  Resultado panel genético Otra mutación    Significado CM bilateral  \\\n",
       "0            No se realizo           NaN  No se realizo          No    \n",
       "1            No se realizo     No aplica  No se realizo           No   \n",
       "2            No se realizo     No aplica  No se realizo           Si   \n",
       "3            No se realizo     No aplica  No se realizo           No   \n",
       "\n",
       "  CM asociado al embarazo         EC          T          N          M  \\\n",
       "0                     No         IIA          1          1          0   \n",
       "1                      No        IIA          2          0          0   \n",
       "2                      No  No aplica  No aplica  No aplica  No aplica   \n",
       "3                      No         IA          1          0          0   \n",
       "\n",
       "  Tipo histológico       Otro      Grado         ER       ER_%         PR  \\\n",
       "0              CDI        NaN          2   Positivo         10   Positivo   \n",
       "1              CDI  No aplica          3   Positivo         10   Positivo   \n",
       "2        No aplica  No aplica  No aplica  No aplica  No aplica  No aplica   \n",
       "3              CDI  No aplica          1  Negativo           0   Positivo   \n",
       "\n",
       "        PR_% HER2 / NEU HER2 IHQ +++  FISH/SISH       Ki67     Ki67_%  \\\n",
       "0        100  Negativo            1+  No aplica         Si          5   \n",
       "1          5   Negativo           1+  No aplica         No  No aplica   \n",
       "2  No aplica  No aplica    No aplica  No aplica  No aplica  No aplica   \n",
       "3         60   Negativo           1+  No aplica         Si         20   \n",
       "\n",
       "         ILV         TILs     TILs_% Patología Rev CECAN Tx Neoadyuvante  \\\n",
       "0         No  Desconocido  No aplica                  No              No   \n",
       "1         Si  Desconocido  No aplica                  No              No   \n",
       "2  No aplica    No aplica  No aplica                  Si              No   \n",
       "3         No  Desconocido  No aplica                  No              No   \n",
       "\n",
       "  Tx Neoadyuvante CECAN Quimioterapia Neoadyuvante Esquema QT Neoadyuvante  \\\n",
       "0                    No                  No aplica               No aplica   \n",
       "1             No aplica                  No aplica               No aplica   \n",
       "2             No aplica                  No aplica               No aplica   \n",
       "3             No aplica                  No aplica               No aplica   \n",
       "\n",
       "  AntiHER2 Neoadyuvante Esquema AntiHER2 Neoadyuvante  \\\n",
       "0             No aplica                     No aplica   \n",
       "1             No aplica                     No aplica   \n",
       "2             No aplica                     No aplica   \n",
       "3             No aplica                     No aplica   \n",
       "\n",
       "  Inmunoterapia Neoadyuvante  \\\n",
       "0                  No aplica   \n",
       "1                  No aplica   \n",
       "2                  No aplica   \n",
       "3                  No aplica   \n",
       "\n",
       "                         Comentarios Tx Neoadyuvante  \\\n",
       "0                                                NaN   \n",
       "1                                          No aplica   \n",
       "2  Tambien se comenta tratamiento neo ad con tamo...   \n",
       "3                                          No aplica   \n",
       "\n",
       "  Respuesta patológica completa        ypT        ypN        RBC Fecha de Cx  \\\n",
       "0                     No aplica  No aplica  No aplica  No aplica  12/10/2023   \n",
       "1                     No aplica  No aplica  No aplica  No aplica   2/12/2018   \n",
       "2                     No aplica  No aplica  No aplica  No aplica   9/10/2020   \n",
       "3                     No aplica  No aplica  No aplica  No aplica   12/6/2018   \n",
       "\n",
       "  Cx CECAN           Tipo Cx mama       Manejo Axila Requirio 2° Cx de mama  \\\n",
       "0       No    Mastectomia radical   Disección axilar                     No   \n",
       "1       Si      Mastectomia total  Ganglio centinela                     No   \n",
       "2       Si  Mastectomia bilateral   Disección axilar                     No   \n",
       "3       No           Tumorectomia  Ganglio centinela                     No   \n",
       "\n",
       "        Cual RT Adyuvante Tipo RT ady Analógos GnRH como protector ovarico  \\\n",
       "0  No aplica          Si        15 Fx                            No aplica   \n",
       "1  No aplica           No   No aplica                            No aplica   \n",
       "2  No aplica           Si       15 Fx                                   No   \n",
       "3  No aplica           Si       25 Fx                            No aplica   \n",
       "\n",
       "  Tx Adyuvante Tx Adyuvante CECAN Quimioterapia Adyuvante  \\\n",
       "0          Si                 Si                      Si    \n",
       "1           Si                 Si                      Si   \n",
       "2           Si                 Si                      No   \n",
       "3           Si                 Si                      No   \n",
       "\n",
       "  Esquema QT Adyuvante Capecitabina AntiHER2 Adyuvante  \\\n",
       "0                 AC-T           No                 No   \n",
       "1                   AC           No          No aplica   \n",
       "2            No aplica           No          No aplica   \n",
       "3            No aplica           No          No aplica   \n",
       "\n",
       "  Esquema AntiHER2 Adyuvante Inmunoterapia Adyuvante Olaparib Adyuvante  \\\n",
       "0                  No aplica                      No                 No   \n",
       "1                  No aplica               No aplica                 No   \n",
       "2                  No aplica                      No                 No   \n",
       "3                  No aplica                      No                 No   \n",
       "\n",
       "  Abemaciclib Adyuvante Adyuvancia endócrina  Adyuvancia endócrina CECAN  \\\n",
       "0                    No                   Si                         Si    \n",
       "1                    No                    Si                         Si   \n",
       "2                    No             No aplica                  No aplica   \n",
       "3                    No                    Si                         Si   \n",
       "\n",
       "  Tipo Tx antihormonal (2 primeros años) Switch hormonal (despues de 2 años)  \\\n",
       "0                             Tamoxifeno                                  No   \n",
       "1                             Exemestano                                  No   \n",
       "2                              No aplica                           No aplica   \n",
       "3                             Tamoxifeno                                  No   \n",
       "\n",
       "  Supresión ovarica Fecha Inicio adyuvancia endócrina  \\\n",
       "0         No aplica                         8/22/2024   \n",
       "1         No aplica                         12/7/2018   \n",
       "2         No aplica                         No aplica   \n",
       "3                No                         2/27/2019   \n",
       "\n",
       "  Fin de adyuvancia endócrina Fecha fin adyuvancia endócrina  \\\n",
       "0                          No                      No aplica   \n",
       "1                          No                      No aplica   \n",
       "2                   No aplica                      No aplica   \n",
       "3                          No                      No aplica   \n",
       "\n",
       "  Adyuvancia extendida Ac. Zoledrónico/Denosumab adyuvante Recurrencia Local  \\\n",
       "0          Por definir                                  No                No   \n",
       "1                   No                                  No                No   \n",
       "2            No aplica                                  No                No   \n",
       "3          Por definir                                  No                No   \n",
       "\n",
       "  Fecha 1° recurrencia local SLE (meses) No. de recurrencias locales  \\\n",
       "0                  No aplica         NaN                           0   \n",
       "1                  No aplica   No aplica                           0   \n",
       "2                  No aplica   No aplica                           0   \n",
       "3                  No aplica   No aplica                           0   \n",
       "\n",
       "  Recurrencia sistémica Fecha 1° recurrencia sistémica SLEm (meses)  \\\n",
       "0                    No                      No aplica          NaN   \n",
       "1                    Si                       2/6/2020           23   \n",
       "2                    No                      No aplica    No aplica   \n",
       "3                    No                      No aplica    No aplica   \n",
       "\n",
       "  Biopsia de 1° recurrencia (local o sistémica) ER recurrencia       ER %  \\\n",
       "0                                     No aplica      No aplica  No aplica   \n",
       "1                                            Si       Positivo         15   \n",
       "2                                     No aplica      No aplica  No aplica   \n",
       "3                                     No aplica      No aplica  No aplica   \n",
       "\n",
       "  PR recurrencia       PR % HER2 IHQ recurrencia HER2 IHQ +++.1  \\\n",
       "0      No aplica  No aplica            No aplica      No aplica   \n",
       "1       Positivo          0             Negativo             0+   \n",
       "2      No aplica  No aplica            No aplica      No aplica   \n",
       "3      No aplica  No aplica            No aplica      No aplica   \n",
       "\n",
       "  iCDK 4/6 enfermedad  metastásica Tipo iCDK 4/6  \\\n",
       "0                        No aplica     No aplica   \n",
       "1                               Si   Abemaciclib   \n",
       "2                        No aplica     No aplica   \n",
       "3                        No aplica     No aplica   \n",
       "\n",
       "  Inmunoterapia enfermedad metastásica Tipo inmunoterapia  \\\n",
       "0                            No aplica                NaN   \n",
       "1                                   No          No aplica   \n",
       "2                            No aplica          No aplica   \n",
       "3                            No aplica          No aplica   \n",
       "\n",
       "  iPARP enfermedad metastásica Estado en ultimo seguimiento  \\\n",
       "0                    No aplica          Viva sin enfermedad   \n",
       "1                           No          Viva con enfermedad   \n",
       "2                    No aplica          Viva sin enfermedad   \n",
       "3                    No aplica          Viva sin enfermedad   \n",
       "\n",
       "  Fecha de ultimo seguimiento Fecha de muerte Seguimiento (meses)  SG (meses)  \\\n",
       "0                   8/22/2024       No aplica                   7           0   \n",
       "1                   9/28/2023       No aplica                  68          68   \n",
       "2                   10/3/2023       No aplica                  44          44   \n",
       "3                   9/27/2023       No aplica                  56          58   \n",
       "\n",
       "  Muerte por Ca de mama Ooforectomía Mastecomía contralateral 2° tiempo  \\\n",
       "0                   No           No                                 No    \n",
       "1                    No           No                                 No   \n",
       "2                    No           Si                                 No   \n",
       "3                    No           No                                 No   \n",
       "\n",
       "  Embarazo post CM 2° Primario               Sitio  \\\n",
       "0              No          No                  NaN   \n",
       "1              No           No           No aplica   \n",
       "2              No           Si  Mama contralateral   \n",
       "3              No           No           No aplica   \n",
       "\n",
       "  Protocolo de investigación  Nombre de protocolo  \\\n",
       "0                          No                 NaN   \n",
       "1                          No           No aplica   \n",
       "2                          No           No aplica   \n",
       "3                          No           No aplica   \n",
       "\n",
       "                                         COMENTARIOS  \n",
       "0                                                 --  \n",
       "1            Metastasis en pulmon confirmado por TAC  \n",
       "2                                                 --  \n",
       "3  Sin datos de recurrencia. Continúa con tamoxif...  "
      ]
     },
     "execution_count": 850,
     "metadata": {},
     "output_type": "execute_result"
    }
   ],
   "source": [
    "\"\"\"\n",
    "Pandas es una biblioteca de Python especializada en la manipulación y análisis de datos.\n",
    "Nos proporciona estructuras como el Dataframe que facilita la limpieza, transformación, exploración y visualización de datos.\n",
    "\n",
    "Para este proyecto, pandas permite organizar la información de los pacientes, realizar filtrados, \n",
    "conversiones de tipos de datos y preparar la base para el análisis profundo y modelado predictivo.\n",
    "\"\"\"\n",
    "\n",
    "import pandas as pd\n",
    "\n",
    "# Leemos la Base de Datos y mostramos todas las columnas para tener una mejor idea de su estructura en este mismo archivo\n",
    "\n",
    "df = pd.read_csv('./resources/2025_08_27 BD Proy Salud.csv', encoding='latin1')#.set_index('ID')\n",
    "\n",
    "\n",
    "# Deseamos ver todas las columnas para revisar bien cada una de nuestras variables\n",
    "\n",
    "pd.set_option('display.max_columns', None)\n",
    "\n",
    "# Mostramos las primeras 4 filas para ver un resumen rápido que nos ayude a entender la estructura de los datos\n",
    "\n",
    "\n",
    "\n",
    "df.head(4)\n"
   ]
  },
  {
   "cell_type": "markdown",
   "id": "f5bc9d6f",
   "metadata": {},
   "source": [
    "##### Observaciones iniciales:\n",
    "\n",
    "- Tenemos muchas variables con nombres muy parecidos, por lo que debemos profundizar en la exploración de los mismos.\n",
    "\n",
    "- Podemos facilitar limpieza simplificando algunos datos (e.g. quitar espacios, quitar simbolos redundantes), que al final podríamos devolver debido a que no conocemos como afectaría esta alteración a quien nos expidió esta información.\n",
    "\n",
    "- Podemos notar que existen valores nulos y duplicados en algunas columnas clave, lo que requerirá una limpieza cuidadosa para asegurar la calidad del análisis.\n",
    "\n",
    "- Notamos reportes de recurrencias en diagnósticos.\n",
    "\n",
    "---\n",
    "##### En base a las variables que necesitamos para la catalogación y la exploración inicial de las columnas proporcionadas y su significado...\n",
    "\n",
    "- Comenzaremos con la reducción de la base de datos para trabajar con los datos que nos corresponden.\n",
    "\n",
    "- A partir de esta nueva base de datos, limpiamos más a fondo, optimizamos algunos datos para facilitar la manipulación.\n",
    "\n",
    "- Reconocemos que no sabemos todo, por lo que justificaremos nuestras modificaciones y las comentaremos con nuestro profesor y socio-formador.\n"
   ]
  },
  {
   "cell_type": "markdown",
   "id": "7186ecd7",
   "metadata": {},
   "source": [
    "---\n",
    "Antes de elegir los datos, recordemos que una de las observaciones era que hay recurrencia en los diagnosticos. Esto puede ser de importancia para tener una comprensión más amplia del comportamiento de las variables involucradas con el paso del tiempo de una consulta a otra."
   ]
  },
  {
   "cell_type": "code",
   "execution_count": 851,
   "id": "7e540f49",
   "metadata": {},
   "outputs": [
    {
     "name": "stdout",
     "output_type": "stream",
     "text": [
      "Cantidad de valores únicos en 'Fecha 1° recurrencia sistémica': 123\n",
      "Cantidad de datos 'No Aplica' en 'Fecha 1° recurrencia sistémica': 1232\n"
     ]
    }
   ],
   "source": [
    "# Consultamos cuantas personas realmente tuvieron un segundo diagnóstico registrado en base a las fechas\n",
    "# de la columna 'Fecha 1° recurrencia sistémica'\n",
    "\n",
    "if 'Fecha 1° recurrencia sistémica' in df.columns:\n",
    "    numUnique = df['Fecha 1° recurrencia sistémica'].nunique(dropna=True)\n",
    "    print(f\"Cantidad de valores únicos en 'Fecha 1° recurrencia sistémica': {numUnique}\") #Mostramos la cantidad de valores únicos\n",
    "\n",
    "countNoAplica = df['Fecha 1° recurrencia sistémica'].astype(str).str.strip().str.lower().eq('no aplica').sum() #Mostramos los valores que digan \"No Aplica\" sin importar mayusculas ni minusculas\n",
    "print(f\"Cantidad de datos 'No Aplica' en 'Fecha 1° recurrencia sistémica': {countNoAplica}\")"
   ]
  },
  {
   "cell_type": "markdown",
   "id": "5c6e233b",
   "metadata": {},
   "source": [
    "Como se puede observar, hay hasta 123 datos distintos. Al ver cuantos datos coinciden con el indicador \"No Aplica\", tenemos que la gran mayoría de los registros en esta columna son de personas que no han tenido una primera recurrencia para otro diagnóstico.\n",
    "\n",
    "Debido a esto, SI se va a omitir la consideración de estos datos para nuestra base de datos reducida."
   ]
  },
  {
   "cell_type": "code",
   "execution_count": 852,
   "id": "0927935f",
   "metadata": {},
   "outputs": [
    {
     "name": "stdout",
     "output_type": "stream",
     "text": [
      "Numero de columnas/variables: \n",
      " 109 \n",
      "\n",
      "Columnas identificadas: \n",
      " ['Id', 'Fecha_De_Registro', 'Fecha_De_Nacimiento', 'Fecha_De_Dx_Biopsia', 'Edad_Al_Dx_(Años)', 'Fecha_1°_Consulta_Om_Cecan', 'Peso_Al_Dx', 'Talla_Al_Dx', 'Imc', 'Edo_Menopausia_Dx', 'Preservación_De_La_Fertilidad', 'Prueba_Genetica', 'Resultado_Panel_Genético', 'Otra_Mutación', 'Significado', 'Cm_Bilateral', 'Cm_Asociado_Al_Embarazo', 'Ec', 'T', 'N', 'M', 'Tipo_Histológico', 'Otro', 'Grado', 'Er', 'Er_%', 'Pr', 'Pr_%', 'Her2_/_Neu', 'Her2_Ihq_+++', 'Fish/Sish', 'Ki67', 'Ki67_%', 'Ilv', 'Tils', 'Tils_%', 'Patología_Rev_Cecan', 'Tx_Neoadyuvante', 'Tx_Neoadyuvante_Cecan', 'Quimioterapia_Neoadyuvante', 'Esquema_Qt_Neoadyuvante', 'Antiher2_Neoadyuvante', 'Esquema_Antiher2_Neoadyuvante', 'Inmunoterapia_Neoadyuvante', 'Comentarios_Tx_Neoadyuvante', 'Respuesta_Patológica_Completa', 'Ypt', 'Ypn', 'Rbc', 'Fecha_De_Cx', 'Cx_Cecan', 'Tipo_Cx_Mama', 'Manejo_Axila', 'Requirio_2°_Cx_De_Mama', 'Cual', 'Rt_Adyuvante', 'Tipo_Rt_Ady', 'Analógos_Gnrh_Como_Protector_Ovarico', 'Tx_Adyuvante', 'Tx_Adyuvante_Cecan', 'Quimioterapia_Adyuvante', 'Esquema_Qt_Adyuvante', 'Capecitabina', 'Antiher2_Adyuvante', 'Esquema_Antiher2_Adyuvante', 'Inmunoterapia_Adyuvante', 'Olaparib_Adyuvante', 'Abemaciclib_Adyuvante', 'Adyuvancia_Endócrina_', 'Adyuvancia_Endócrina_Cecan', 'Tipo_Tx_Antihormonal_(2_Primeros_Años)', 'Switch_Hormonal_(Despues_De_2_Años)', 'Supresión_Ovarica', 'Fecha_Inicio_Adyuvancia_Endócrina', 'Fin_De_Adyuvancia_Endócrina', 'Fecha_Fin_Adyuvancia_Endócrina', 'Adyuvancia_Extendida', 'Ac._Zoledrónico/Denosumab_Adyuvante', 'Recurrencia_Local', 'Fecha_1°_Recurrencia_Local', 'Sle_(Meses)', 'No._De_Recurrencias_Locales', 'Recurrencia_Sistémica', 'Fecha_1°_Recurrencia_Sistémica', 'Slem_(Meses)', 'Biopsia_De_1°_Recurrencia_(Local_O_Sistémica)', 'Er_Recurrencia', 'Pr_Recurrencia', 'Her2_Ihq_Recurrencia', 'Her2_Ihq_+++.1', 'Icdk_4/6_Enfermedad__Metastásica', 'Tipo_Icdk_4/6', 'Inmunoterapia_Enfermedad_Metastásica', 'Tipo_Inmunoterapia', 'Iparp_Enfermedad_Metastásica', 'Estado_En_Ultimo_Seguimiento', 'Fecha_De_Ultimo_Seguimiento', 'Fecha_De_Muerte', 'Seguimiento_(Meses)', 'Sg_(Meses)', 'Muerte_Por_Ca_De_Mama', 'Ooforectomía', 'Mastecomía_Contralateral_2°_Tiempo', 'Embarazo_Post_Cm', '2°_Primario', 'Sitio', 'Protocolo_De_Investigación_', 'Nombre_De_Protocolo', 'Comentarios']\n"
     ]
    }
   ],
   "source": [
    "\"\"\"\n",
    "NOTA: Las justificaciones seran comentadas encima de las lineas de código, \n",
    "      mientras que explicaciones técnicas sobre la programación serán comentadas \n",
    "      al lado de las lineas SOLO cuando sea necesario.\n",
    "\"\"\"\n",
    "\n",
    "# Nos deshacemos de las columnas que no aportan valor y tienen nombres similares a otras que si usaremos\n",
    "# Estas columnas nos están diciendo simplemente el porcentaje de recurrencia de Estrógeno y Prostageno, no el nivel real de estos en el paciente.\n",
    "\n",
    "df = df.drop(columns=['ER %', 'PR %']) \n",
    "\n",
    "# Renombramos columnas para agregar \"_\" entre espacios\n",
    "\n",
    "df.columns = df.columns.str.replace(' ', '_') \n",
    "\n",
    "# Pondremos en mayuscula la primera letra de cada palabra como mera formalidad\n",
    "\n",
    "df.columns = df.columns.str.title()\n",
    "\n",
    "# Mostramos las columnas/variables únicas que tenemos en la base de datos\n",
    "\n",
    "unique_columns = df.columns.tolist() # Convertimos las variables en una lista para mostrarlas facilmente\n",
    "\n",
    "print(\"Numero de columnas/variables: \\n\", len(unique_columns), \"\\n\") # Imprimimos cuantas columnas tenemos\n",
    "\n",
    "# Mostramos las columnas y sus nombre en una lista para observar si hay errores o detalles a mejorar una vez realizados los cambios\n",
    "\n",
    "print(\"Columnas identificadas: \\n\", unique_columns) "
   ]
  },
  {
   "cell_type": "markdown",
   "id": "692a6b98",
   "metadata": {},
   "source": [
    "En esta acción inicial: \n",
    "1. Nos deshicimos de los espacios en los nombres de las columnas con el fin de simplificar su manipulación.\n",
    "\n",
    "2. Eliminamos las variables de \"PR %\" y \"ER %\" de la recurrencia, para que no se nos cruzen ni sean confundidas con las de la consulta inicial.\n",
    " \n",
    "3. Retornamos una lista de todas las columnas para identificar los cambios que hicimos e identificar errores o mejoras.\n"
   ]
  },
  {
   "cell_type": "markdown",
   "id": "88e28679",
   "metadata": {},
   "source": [
    "---\n",
    "##### Creamos una base de datos reducida con las columnas que corresponden al objetivo de nuestro análisis.\n",
    "\n",
    "Seleccionamos datos de interés para el análisis de cáncer luminal, además de datos demográficos básicos (con la intención de obtención de nuevos datos para sacar inferencias y tendencias a futuro).\n"
   ]
  },
  {
   "cell_type": "code",
   "execution_count": 853,
   "id": "41f05608",
   "metadata": {},
   "outputs": [
    {
     "data": {
      "image/jpeg": "[encoded data removed]",
      "text/plain": [
       "<IPython.core.display.Image object>"
      ]
     },
     "execution_count": 853,
     "metadata": {},
     "output_type": "execute_result"
    }
   ],
   "source": [
    "# Mostramos la imagen de ./resources/2025_08_27 BD Proy Salud.png\n",
    "\n",
    "from IPython.display import Image\n",
    "Image(filename='./resources/2025_08_28 Tabla para catalogar datos.jpg')  "
   ]
  },
  {
   "cell_type": "markdown",
   "id": "02025993",
   "metadata": {},
   "source": [
    "##### De esta tabla, nos estamos enfocando en los tipos de tumores luminales A y B\n",
    "---\n",
    "##### En base a esto, elegiremos los datos que nos interesan para la reducción de nuestra base de datos"
   ]
  },
  {
   "cell_type": "code",
   "execution_count": 854,
   "id": "ac6f6fae",
   "metadata": {},
   "outputs": [],
   "source": [
    "# Seleccionamos datos de interés para el análisis de cáncer luminal, además de datos demográficos básicos\n",
    "\n",
    "\n",
    "luminal_columns = [\n",
    "    'Id', 'Fecha_De_Nacimiento', 'Fecha_De_Dx_Biopsia', 'Edad_Al_Dx_(Años)',\n",
    "    'Fecha_1°_Consulta_Om_Cecan', 'Imc', 'Er_%', 'Pr_%',\n",
    "    'Her2_Ihq_+++','Fish/Sish', 'Ki67_%', 'Grado'\n",
    "]\n",
    "\n",
    "\n",
    "# Nueva DB con columnas de interés, la llamamos luminalDf, para denotar \"Luminal Dataframe\"\n",
    "\n",
    "luminalDf = df[luminal_columns]"
   ]
  },
  {
   "cell_type": "markdown",
   "id": "ce93722e",
   "metadata": {},
   "source": [
    "¿Porqué mantener demográficos y de consulta?\n",
    "\n",
    "1. Nos permiten expandir nuestras conclusiones al añadir tendencias relacionadas con la edad, tiempos de atención entre fechas, etc.\n",
    "\n",
    "2. El IMC nos podría servir para identificar repercusiones de fenómenos cómo la obesidad o peso en el desarrollo de este cáncer.\n",
    "\n",
    "---\n",
    "\n",
    "Mostramos todas las columnas y los primeros registros"
   ]
  },
  {
   "cell_type": "code",
   "execution_count": 855,
   "id": "83ba2181",
   "metadata": {},
   "outputs": [
    {
     "data": {
      "text/html": [
       "<div>\n",
       "<style scoped>\n",
       "    .dataframe tbody tr th:only-of-type {\n",
       "        vertical-align: middle;\n",
       "    }\n",
       "\n",
       "    .dataframe tbody tr th {\n",
       "        vertical-align: top;\n",
       "    }\n",
       "\n",
       "    .dataframe thead th {\n",
       "        text-align: right;\n",
       "    }\n",
       "</style>\n",
       "<table border=\"1\" class=\"dataframe\">\n",
       "  <thead>\n",
       "    <tr style=\"text-align: right;\">\n",
       "      <th></th>\n",
       "      <th>Id</th>\n",
       "      <th>Fecha_De_Nacimiento</th>\n",
       "      <th>Fecha_De_Dx_Biopsia</th>\n",
       "      <th>Edad_Al_Dx_(Años)</th>\n",
       "      <th>Fecha_1°_Consulta_Om_Cecan</th>\n",
       "      <th>Imc</th>\n",
       "      <th>Er_%</th>\n",
       "      <th>Pr_%</th>\n",
       "      <th>Her2_Ihq_+++</th>\n",
       "      <th>Fish/Sish</th>\n",
       "      <th>Ki67_%</th>\n",
       "      <th>Grado</th>\n",
       "    </tr>\n",
       "  </thead>\n",
       "  <tbody>\n",
       "    <tr>\n",
       "      <th>0</th>\n",
       "      <td>1003-24</td>\n",
       "      <td>9/28/1977</td>\n",
       "      <td>11/24/2023</td>\n",
       "      <td>46</td>\n",
       "      <td>1/5/2024</td>\n",
       "      <td>28.26</td>\n",
       "      <td>10</td>\n",
       "      <td>100</td>\n",
       "      <td>1+</td>\n",
       "      <td>No aplica</td>\n",
       "      <td>5</td>\n",
       "      <td>2</td>\n",
       "    </tr>\n",
       "    <tr>\n",
       "      <th>1</th>\n",
       "      <td>1008-18</td>\n",
       "      <td>4/1/1961</td>\n",
       "      <td>1/12/2018</td>\n",
       "      <td>56</td>\n",
       "      <td>1/25/2018</td>\n",
       "      <td>39.35</td>\n",
       "      <td>10</td>\n",
       "      <td>5</td>\n",
       "      <td>1+</td>\n",
       "      <td>No aplica</td>\n",
       "      <td>No aplica</td>\n",
       "      <td>3</td>\n",
       "    </tr>\n",
       "    <tr>\n",
       "      <th>2</th>\n",
       "      <td>1008-20</td>\n",
       "      <td>2/10/1979</td>\n",
       "      <td>1/4/2020</td>\n",
       "      <td>40</td>\n",
       "      <td>1/17/2020</td>\n",
       "      <td>18.83</td>\n",
       "      <td>No aplica</td>\n",
       "      <td>No aplica</td>\n",
       "      <td>No aplica</td>\n",
       "      <td>No aplica</td>\n",
       "      <td>No aplica</td>\n",
       "      <td>No aplica</td>\n",
       "    </tr>\n",
       "    <tr>\n",
       "      <th>3</th>\n",
       "      <td>1009-19</td>\n",
       "      <td>1/23/1975</td>\n",
       "      <td>11/6/2018</td>\n",
       "      <td>43</td>\n",
       "      <td>1/14/2019</td>\n",
       "      <td>19.91</td>\n",
       "      <td>0</td>\n",
       "      <td>60</td>\n",
       "      <td>1+</td>\n",
       "      <td>No aplica</td>\n",
       "      <td>20</td>\n",
       "      <td>1</td>\n",
       "    </tr>\n",
       "  </tbody>\n",
       "</table>\n",
       "</div>"
      ],
      "text/plain": [
       "        Id Fecha_De_Nacimiento Fecha_De_Dx_Biopsia  Edad_Al_Dx_(Años)  \\\n",
       "0  1003-24           9/28/1977          11/24/2023                 46   \n",
       "1  1008-18            4/1/1961           1/12/2018                 56   \n",
       "2  1008-20           2/10/1979            1/4/2020                 40   \n",
       "3  1009-19           1/23/1975           11/6/2018                 43   \n",
       "\n",
       "  Fecha_1°_Consulta_Om_Cecan    Imc       Er_%       Pr_% Her2_Ihq_+++  \\\n",
       "0                   1/5/2024  28.26         10        100           1+   \n",
       "1                  1/25/2018  39.35         10          5           1+   \n",
       "2                  1/17/2020  18.83  No aplica  No aplica    No aplica   \n",
       "3                  1/14/2019  19.91          0         60           1+   \n",
       "\n",
       "   Fish/Sish     Ki67_%      Grado  \n",
       "0  No aplica          5          2  \n",
       "1  No aplica  No aplica          3  \n",
       "2  No aplica  No aplica  No aplica  \n",
       "3  No aplica         20          1  "
      ]
     },
     "execution_count": 855,
     "metadata": {},
     "output_type": "execute_result"
    }
   ],
   "source": [
    "pd.set_option('display.max_columns', None) #Para ver cada una de las columnas\n",
    "luminalDf.head(4)\n"
   ]
  },
  {
   "cell_type": "code",
   "execution_count": 856,
   "id": "670d5334",
   "metadata": {},
   "outputs": [
    {
     "name": "stdout",
     "output_type": "stream",
     "text": [
      "Cantidad de registros: 1366\n"
     ]
    }
   ],
   "source": [
    "# Mostramos la cantidad de registros\n",
    "\n",
    "print(\"Cantidad de registros:\", luminalDf.shape[0]) # shape[0] nos da el número de registros en el DataFrame"
   ]
  },
  {
   "cell_type": "markdown",
   "id": "f4d26953",
   "metadata": {},
   "source": [
    "Tenemos 1366 registros, ahora empezamos la limpieza buscando IDs vacíos o duplicados"
   ]
  },
  {
   "cell_type": "code",
   "execution_count": 857,
   "id": "ad1a9d8b",
   "metadata": {},
   "outputs": [
    {
     "name": "stdout",
     "output_type": "stream",
     "text": [
      "\n",
      "¿Los duplicados tienen columnas con datos distintos?\n",
      "            Id  Fecha_De_Nacimiento  Fecha_De_Dx_Biopsia  Edad_Al_Dx_(Años)  \\\n",
      "Id                                                                            \n",
      "1012-23  False                False                False              False   \n",
      "1245-23  False                False                False              False   \n",
      "1358-24  False                False                 True              False   \n",
      "1402-23  False                False                False              False   \n",
      "1413-23  False                False                False              False   \n",
      "1468-23  False                False                False              False   \n",
      "1647-20  False                False                False              False   \n",
      "1656-18  False                False                False              False   \n",
      "1746-23  False                False                False              False   \n",
      "1755-23  False                False                False              False   \n",
      "1884-23  False                False                False              False   \n",
      "1885-22  False                False                False              False   \n",
      "1899-23  False                False                False              False   \n",
      "1925-22  False                False                False              False   \n",
      "2502-22  False                False                False              False   \n",
      "\n",
      "         Fecha_1°_Consulta_Om_Cecan    Imc   Er_%   Pr_%  Her2_Ihq_+++  \\\n",
      "Id                                                                       \n",
      "1012-23                       False  False  False  False         False   \n",
      "1245-23                       False  False  False  False         False   \n",
      "1358-24                       False  False  False  False         False   \n",
      "1402-23                       False  False  False  False         False   \n",
      "1413-23                       False  False  False  False         False   \n",
      "1468-23                       False  False  False  False         False   \n",
      "1647-20                       False  False  False  False         False   \n",
      "1656-18                        True  False  False  False         False   \n",
      "1746-23                       False  False  False  False         False   \n",
      "1755-23                       False  False  False  False         False   \n",
      "1884-23                       False  False  False  False         False   \n",
      "1885-22                        True   True  False  False         False   \n",
      "1899-23                       False  False  False  False         False   \n",
      "1925-22                       False  False  False  False         False   \n",
      "2502-22                       False  False  False  False         False   \n",
      "\n",
      "         Fish/Sish  Ki67_%  Grado  \n",
      "Id                                 \n",
      "1012-23      False   False  False  \n",
      "1245-23      False   False  False  \n",
      "1358-24      False   False  False  \n",
      "1402-23      False   False  False  \n",
      "1413-23      False   False  False  \n",
      "1468-23      False   False  False  \n",
      "1647-20      False   False  False  \n",
      "1656-18      False   False  False  \n",
      "1746-23      False   False  False  \n",
      "1755-23      False   False  False  \n",
      "1884-23      False   False  False  \n",
      "1885-22      False   False  False  \n",
      "1899-23      False   False  False  \n",
      "1925-22      False   False  False  \n",
      "2502-22      False   False  False  \n",
      "\n",
      "Cantidad de IDs nulos: 0\n",
      "Cantidad de registros después de la limpieza: 1351\n"
     ]
    },
    {
     "name": "stderr",
     "output_type": "stream",
     "text": [
      "C:\\Users\\gilin\\AppData\\Local\\Temp\\ipykernel_1152\\2927797978.py:10: FutureWarning: DataFrameGroupBy.apply operated on the grouping columns. This behavior is deprecated, and in a future version of pandas the grouping columns will be excluded from the operation. Either pass `include_groups=False` to exclude the groupings or explicitly select the grouping columns after groupby to silence this warning.\n",
      "  comparison = idsDuplicados.groupby('Id').apply(lambda x: x.nunique() > 1) # Compara si hay diferencias en las columnas para los mismos IDs\n"
     ]
    }
   ],
   "source": [
    "#Limpiamos IDs repetidos y nulos, nos quedamos con los primeros repetidos\n",
    "\n",
    "\n",
    "# Identificamos los IDs duplicados\n",
    "idsDuplicados = luminalDf[luminalDf.duplicated(subset=['Id'], keep=False)] # keep=False marca todos los duplicados como True\n",
    "\n",
    "\n",
    "\n",
    "# Comparamos si los duplicados son exactamente iguales en todas las columnas\n",
    "comparison = idsDuplicados.groupby('Id').apply(lambda x: x.nunique() > 1) # Compara si hay diferencias en las columnas para los mismos IDs\n",
    "print(\"\\n¿Los duplicados tienen columnas con datos distintos?\") # Mostramos si hay diferencias en las columnas para los mismos IDs\n",
    "print(comparison)\n",
    "\n",
    "# Eliminamos solo los duplicados que son exactamente iguales en todas las columnas\n",
    "\n",
    "idsEliminar = comparison.index[~comparison.any(axis=1)] # IDs que son exactamente iguales en todas las columnas\n",
    "luminalDf = luminalDf[~luminalDf['Id'].isin(idsEliminar) | ~luminalDf.duplicated(subset=luminalDf.columns, keep='first')]   # Eliminamos los duplicados exactos, manteniendo uno solo\n",
    "luminalDf = luminalDf.drop_duplicates(subset=['Id'], keep='first') # Nos quedamos con el primer registro de cada ID\n",
    "\n",
    "# Observamos si hay datos nulos en la columna 'Id'\n",
    "idsNulos = luminalDf['Id'].isnull().sum()\n",
    "print(f\"\\nCantidad de IDs nulos: {idsNulos}\")\n",
    "\n",
    "#Mostramos la cantidad de registros después de la limpieza\n",
    "print(\"Cantidad de registros después de la limpieza:\", luminalDf.shape[0])"
   ]
  },
  {
   "cell_type": "markdown",
   "id": "b3c1b147",
   "metadata": {},
   "source": [
    "No hay datos nulos, sin embargo había 15 columnas duplicadas que tenían los datos exactamente igual.\n",
    "\n",
    "---\n",
    "Ahora, buscamos que tan significativos son las diferencias entre las filas con Ids duplicados en dónde había diferencia entre las variables."
   ]
  },
  {
   "cell_type": "code",
   "execution_count": 858,
   "id": "b507dab0",
   "metadata": {},
   "outputs": [
    {
     "name": "stdout",
     "output_type": "stream",
     "text": [
      "          Id Fecha_De_Nacimiento Fecha_De_Dx_Biopsia  Edad_Al_Dx_(Años)  \\\n",
      "285  1358-24          11/28/1959           3/14/2024                 64   \n",
      "286  1358-24          11/28/1959           2/14/2024                 64   \n",
      "507  1656-18           5/27/1972            4/1/2018                 45   \n",
      "508  1656-18           5/27/1972            4/1/2018                 45   \n",
      "662  1885-22            9/5/1956           7/13/2022                 65   \n",
      "663  1885-22            9/5/1956           7/13/2022                 65   \n",
      "\n",
      "    Fecha_1°_Consulta_Om_Cecan    Imc Er_% Pr_% Her2_Ihq_+++     Ki67_% Grado  \n",
      "285                   4/9/2024  24.53  100  100           1+  No aplica     3  \n",
      "286                   4/9/2024  24.53  100  100           1+  No aplica     3  \n",
      "507                   5/7/2018  41.12    0   40           1+          5     2  \n",
      "508                  7/26/2018  41.12    0   40           1+          5     2  \n",
      "662                   7/8/2022  35.34   60    0           0+         20     2  \n",
      "663                  8/16/2022  35.30   60    0           0+         20     2  \n"
     ]
    }
   ],
   "source": [
    "# Mostramos los datos duplicados que tienen diferencias en alguna columna\n",
    "\n",
    "difDuplicados = idsDuplicados.groupby('Id').filter(lambda x: x.nunique().gt(1).any()) # Filtra los IDs con diferencias en alguna columna\n",
    "print(difDuplicados[difDuplicados.columns[difDuplicados.nunique() > 1]]) # Mostramos solo las columnas donde hay diferencias entre los duplicados"
   ]
  },
  {
   "cell_type": "markdown",
   "id": "bbaaf73f",
   "metadata": {},
   "source": [
    "##### Podemos observar:\n",
    "\n",
    "1. Los unicos cambios en estos 3 duplicados con diferencias en los valores de las variables son en variables de fechas.\n",
    "\n",
    "2. Al ser solamente cambios minimos de máximo 1 mes de diferencia, se tomara el que sea cómo elegido para deshacernos del valor duplicado.\n",
    "\n",
    "3. El otro valor que difiere en una columna duplicada es el IMC, el cuál solo cambia de 35.34 a 35.30, por lo que también sera elegido uno solo y se eliminará el otro (debido a la diferencia tan pequeña de margen)."
   ]
  },
  {
   "cell_type": "code",
   "execution_count": 859,
   "id": "1eca23ce",
   "metadata": {
    "vscode": {
     "languageId": "ruby"
    }
   },
   "outputs": [
    {
     "name": "stdout",
     "output_type": "stream",
     "text": [
      "IDs eliminados por diferencias mínimas: ['1358-24' '1656-18' '1885-22']\n"
     ]
    }
   ],
   "source": [
    "# Eliminamos los duplicados con diferencias mínimas en fechas o IMC, quedándonos solo con el primero de cada grupo\n",
    "\n",
    "idsDif = difDuplicados['Id'].unique() # IDs que tienen diferencias en alguna columna\n",
    "luminalDf = luminalDf[~luminalDf['Id'].isin(idsDif) | ~luminalDf.duplicated(subset=['Id'], keep='first')]  # Eliminamos los duplicados con diferencias mínimas, manteniendo uno solo\n",
    "\n",
    "# Confirmamos que los IDs duplicados con diferencias mínimas han sido eliminados\n",
    "print(\"IDs eliminados por diferencias mínimas:\", idsDif)"
   ]
  },
  {
   "cell_type": "markdown",
   "id": "7253e8e4",
   "metadata": {},
   "source": [
    "---\n",
    "Ahora, analizaremos los tipos de datos de las columnas."
   ]
  },
  {
   "cell_type": "code",
   "execution_count": 860,
   "id": "2ccefa1e",
   "metadata": {},
   "outputs": [
    {
     "name": "stdout",
     "output_type": "stream",
     "text": [
      "Tipos de datos de cada columna:\n",
      "Id                             object\n",
      "Fecha_De_Nacimiento            object\n",
      "Fecha_De_Dx_Biopsia            object\n",
      "Edad_Al_Dx_(Años)               int64\n",
      "Fecha_1°_Consulta_Om_Cecan     object\n",
      "Imc                           float64\n",
      "Er_%                           object\n",
      "Pr_%                           object\n",
      "Her2_Ihq_+++                   object\n",
      "Fish/Sish                      object\n",
      "Ki67_%                         object\n",
      "Grado                          object\n",
      "dtype: object\n"
     ]
    }
   ],
   "source": [
    "print(\"Tipos de datos de cada columna:\")\n",
    "print(luminalDf.dtypes)"
   ]
  },
  {
   "cell_type": "markdown",
   "id": "121b5823",
   "metadata": {},
   "source": [
    "##### Podemos identificar varios tipos de datos que no son correctos, por lo que...\n",
    "\n",
    "- Convertiremos las fechas a \"datetime\" para facilitar el análisis temporal y permitir operaciones como cálculos de diferencias.\n",
    "- Los valores de Er_% y Pr_% deben ser convertidos a enteros.\n",
    "\n"
   ]
  },
  {
   "cell_type": "code",
   "execution_count": 861,
   "id": "8e4a649d",
   "metadata": {},
   "outputs": [
    {
     "name": "stdout",
     "output_type": "stream",
     "text": [
      "Fecha_De_Nacimiento           datetime64[ns]\n",
      "Fecha_De_Dx_Biopsia           datetime64[ns]\n",
      "Fecha_1°_Consulta_Om_Cecan    datetime64[ns]\n",
      "dtype: object\n"
     ]
    }
   ],
   "source": [
    "# Cambiamos fechas a datetime\n",
    "\n",
    "for col in luminalDf.columns:\n",
    "    if 'Fecha' in col:\n",
    "        luminalDf[col] = pd.to_datetime(luminalDf[col], errors='coerce') # Convertimos las columnas de fecha a tipo datetime en cada columna que contenga \"Fecha\"\n",
    "\n",
    "columnasFechas = [col for col in luminalDf.columns if 'Fecha' in col] # Lista de columnas que contienen \"Fecha\"\n",
    "\n",
    "\n",
    "print(luminalDf[columnasFechas].dtypes) # Mostramos los tipos de datos de las columnas que contienen \"Fecha\""
   ]
  },
  {
   "cell_type": "code",
   "execution_count": 862,
   "id": "2bc51b87",
   "metadata": {},
   "outputs": [
    {
     "name": "stdout",
     "output_type": "stream",
     "text": [
      "Er_%      Int64\n",
      "Pr_%      Int64\n",
      "Grado     Int64\n",
      "Ki67_%    Int64\n",
      "dtype: object\n"
     ]
    }
   ],
   "source": [
    "# Convertimos las columnas Er_%, Pr_%, Grado y Ki67_% a enteros, forzando errores a NaN y luego a Int64 para permitir nulos\n",
    "\n",
    "\n",
    "luminalDf['Er_%'] = pd.to_numeric(luminalDf['Er_%'], errors='coerce').astype('Int64')\n",
    "luminalDf['Pr_%'] = pd.to_numeric(luminalDf['Pr_%'], errors='coerce').astype('Int64')\n",
    "luminalDf['Grado'] = pd.to_numeric(luminalDf['Grado'], errors='coerce').astype('Int64')\n",
    "luminalDf['Ki67_%'] = pd.to_numeric(luminalDf['Ki67_%'], errors='coerce').astype('Int64') \n",
    "\n",
    "\n",
    "print(luminalDf[['Er_%', 'Pr_%', 'Grado', 'Ki67_%']].dtypes)\n",
    "\n"
   ]
  },
  {
   "cell_type": "markdown",
   "id": "5d5bffed",
   "metadata": {},
   "source": [
    "---\n",
    "Una vez que corregimos los tipos de datos, verificamos que si estén correctos.\n"
   ]
  },
  {
   "cell_type": "code",
   "execution_count": 863,
   "id": "647d3eaf",
   "metadata": {},
   "outputs": [
    {
     "name": "stdout",
     "output_type": "stream",
     "text": [
      "Id                                    object\n",
      "Fecha_De_Nacimiento           datetime64[ns]\n",
      "Fecha_De_Dx_Biopsia           datetime64[ns]\n",
      "Edad_Al_Dx_(Años)                      int64\n",
      "Fecha_1°_Consulta_Om_Cecan    datetime64[ns]\n",
      "Imc                                  float64\n",
      "Er_%                                   Int64\n",
      "Pr_%                                   Int64\n",
      "Her2_Ihq_+++                          object\n",
      "Fish/Sish                             object\n",
      "Ki67_%                                 Int64\n",
      "Grado                                  Int64\n",
      "dtype: object\n"
     ]
    }
   ],
   "source": [
    "print(luminalDf.dtypes)"
   ]
  },
  {
   "cell_type": "markdown",
   "id": "0cd73524",
   "metadata": {},
   "source": [
    "---\n",
    "##### Buscamos datos únicos para cada columna \n",
    "\n",
    "Para observar irregularidades y presencia de valores duplicados de mejor manera."
   ]
  },
  {
   "cell_type": "code",
   "execution_count": 864,
   "id": "5cd249c3",
   "metadata": {},
   "outputs": [
    {
     "name": "stdout",
     "output_type": "stream",
     "text": [
      "Columna: Er_%\n",
      "Valores únicos:\n",
      "<IntegerArray>\n",
      "[  10, <NA>,    0,   80,  100,   15,   20,   90,    2,   85,   70,   12,   98,\n",
      "   60,    5,   95,   30,   50,    4,   65,   40,    7,    1,   55,    8,    6,\n",
      "   75,    3,   91,   25,   96,   35,   99,    9,   16]\n",
      "Length: 35, dtype: Int64\n",
      "\n",
      "Columna: Pr_%\n",
      "Valores únicos:\n",
      "<IntegerArray>\n",
      "[ 100,    5, <NA>,   60,   90,    0,   95,   40,   80,    2,   20,   70,   10,\n",
      "    3,   50,   25,   30,    8,    7,   35,   65,   75,   15,    1,   18,   22,\n",
      "   12,    4,   85,   99,   98,    6,   88,   92,   68,    9]\n",
      "Length: 36, dtype: Int64\n",
      "\n",
      "Columna Her2_/_Neu no encontrada en luminalDf\n",
      "\n",
      "Columna: Her2_Ihq_+++\n",
      "Valores únicos:\n",
      "['1+' 'No aplica' '0+' '2+' '3+' 'Desconocido']\n",
      "\n",
      "Columna: Fish/Sish\n",
      "Valores únicos:\n",
      "['No aplica' 'Negativo' 'Positivo' 'Desconocido']\n",
      "\n",
      "Columna: Ki67_%\n",
      "Valores únicos:\n",
      "<IntegerArray>\n",
      "[   5, <NA>,   20,    0,   90,   10,   50,   40,   60,    8,   65,   80,   95,\n",
      "   25,   30,   70,   15,   45,    3,   12,   47,   14,    7,   35,    2,    1,\n",
      "   75,   87,   18,  100,   24,   55,    4,   22,   67,   72,   11,   85,    9,\n",
      "   27,   89]\n",
      "Length: 41, dtype: Int64\n",
      "\n",
      "Columna: Grado\n",
      "Valores únicos:\n",
      "<IntegerArray>\n",
      "[2, 3, <NA>, 1]\n",
      "Length: 4, dtype: Int64\n",
      "\n"
     ]
    }
   ],
   "source": [
    "# Mostramos los valores únicos de las columnas de interés para identificar irregularidades\n",
    "\n",
    "\n",
    "for col in ['Er_%', 'Pr_%', 'Her2_/_Neu', 'Her2_Ihq_+++','Fish/Sish', 'Ki67_%', 'Grado']:\n",
    "    if col in luminalDf.columns:\n",
    "        print(f'Columna: {col}\\nValores únicos:\\n{luminalDf[col].unique()}\\n') # Mostramos los valores únicos de cada columna de interés\n",
    "    else:\n",
    "        print(f'Columna {col} no encontrada en luminalDf\\n')\n",
    "            \n",
    "\n"
   ]
  },
  {
   "cell_type": "markdown",
   "id": "75b152e6",
   "metadata": {},
   "source": [
    "##### Observamos datos redundantes cómo:\n",
    "\n",
    "- La misma palabra con espacio(s) adicional(es).\n",
    "- Datos que no podemos inferir por lo que tendrían que ser descartados (e.g. \"No Aplica\", \"Desconocido\")"
   ]
  },
  {
   "cell_type": "markdown",
   "id": "1b7aa7ed",
   "metadata": {},
   "source": [
    "---\n",
    "##### Hacemos la limpieza de los datos, esto incluye:\n",
    "\n",
    "- Reemplazar los valores que no pueden ser inferidos por NaN (aún no serán eliminados debido a su dependencia a otras columnas que si necesitamos).\n",
    "- Quitar espacios extra en todos los valores para evitar la duplicidad de datos (e.g. \"   Negativo \", \"Negativo\").\n",
    "- Convertir todos los datos tipo string a minúsculas para evitar problemas de capitalización adecuada.\n",
    "- Convertir strings a int cuando se pueda hacer (e.g. \"1+, 2+, 3+\" => 1,2,3)\n",
    "\n",
    "Todo esto podrá devolverse a su estado original con sus valores originales una vez terminemos todo el proceso de manejo con los datos.\n"
   ]
  },
  {
   "cell_type": "code",
   "execution_count": 865,
   "id": "3386a9e4",
   "metadata": {},
   "outputs": [],
   "source": [
    "\n",
    "import numpy as np #numpy es una biblioteca para computación científica en Python, la utilizaremos para reemplazar ciertos valores por NaN\n",
    "\n",
    "# Las columnas categóricas que vamos a limpiar\n",
    "categorical_cols = ['Her2_Ihq_+++', 'Fish/Sish', 'Grado']  \n",
    "\n",
    "# Convertir a lowercase para evitar problemas de capitalización\n",
    "\n",
    "for col in categorical_cols:\n",
    "    if luminalDf[col].dtype == 'object':  \n",
    "        luminalDf[col] = luminalDf[col].str.lower()\n",
    "\n",
    "# Eliminar datos duplicados en las columnas categóricas, usar strip para verificar duplicidad\n",
    "\n",
    "luminalDf['Her2_Ihq_+++'] = luminalDf['Her2_Ihq_+++'].str.strip() \n",
    "luminalDf['Fish/Sish'] = luminalDf['Fish/Sish'].str.strip()\n",
    "\n",
    "\n",
    "# Reemplazar 'No Aplica' y 'Desconocido' por np.nan en las columnas categóricas\n",
    "\n",
    "willReplaceValues = ['no aplica', 'desconocido'] # Valores a reemplazar por NaN\n",
    "\n",
    "for col in categorical_cols:\n",
    "\n",
    "    luminalDf[col] = luminalDf[col].replace(willReplaceValues, np.nan) # Reemplazamos los valores no aplicables o desconocidos por NaN\n",
    "\n",
    "\n",
    "# Convertir los valores tipo \"1+\", \"2+\", \"3+\", \"0+\" a enteros, pero primero manejar nulos\n",
    "\n",
    "luminalDf['Her2_Ihq_+++'] = luminalDf['Her2_Ihq_+++'].map({'0+': 0, '1+': 1, '2+': 2, '3+': 3}) # Mapear los valores a enteros\n",
    "\n",
    "\n"
   ]
  },
  {
   "cell_type": "markdown",
   "id": "b4d56a6c",
   "metadata": {},
   "source": [
    "En esta acción:\n",
    "\n",
    "1. Reemplazamos datos que no podemos inferir por nan.\n",
    "\n",
    "2. Cambiamos temporalmente datos que nos son redundantes (cómo el + en Her2_IHQ+++) para convertirlo a int.\n",
    "\n",
    "3. Cualquier string lo hicimos en minúsculas para evitar problemas de casing.\n",
    "\n",
    "---\n",
    "##### Para reemplazar los valores nulos en Her2_Ihq+++, debemos analizar las tendencias de estos datos en un histograma."
   ]
  },
  {
   "cell_type": "code",
   "execution_count": 866,
   "id": "ad2c3d82",
   "metadata": {},
   "outputs": [
    {
     "data": {
      "image/png": "[encoded data removed]",
      "text/plain": [
       "<Figure size 640x480 with 1 Axes>"
      ]
     },
     "metadata": {},
     "output_type": "display_data"
    }
   ],
   "source": [
    "import matplotlib.pyplot as plt\n",
    "\n",
    "##### Para reemplazar los valores nulos en Her2_Ihq+++, debemos analizar las tendencias de estos datos en un histograma\n",
    "\n",
    "plt.hist(luminalDf['Her2_Ihq_+++'].dropna(), bins=[-0.5, 0.5, 1.5, 2.5, 3.5], edgecolor='black') # Histograma de Her2_Ihq_+++ sin nulos\n",
    "plt.xticks([0, 1, 2, 3]) # Mostramos las etiquetas en el eje x\n",
    "plt.xlabel('Her2_Ihq_+++')\n",
    "plt.ylabel('Frecuencia')\n",
    "plt.title('Distribución de Her2_Ihq_+++')\n",
    "plt.show() # Mostramos el histograma"
   ]
  },
  {
   "cell_type": "markdown",
   "id": "9b5c9b3e",
   "metadata": {},
   "source": [
    "Basado en estos datos, es conveniente reemplazar por la moda, la cual es 0+."
   ]
  },
  {
   "cell_type": "code",
   "execution_count": 867,
   "id": "c5a20062",
   "metadata": {},
   "outputs": [],
   "source": [
    "#replace nulos con la moda\n",
    "\n",
    "luminalDf['Her2_Ihq_+++'] = luminalDf['Her2_Ihq_+++'].fillna(luminalDf['Her2_Ihq_+++'].mode()[0]).astype(int)"
   ]
  },
  {
   "cell_type": "markdown",
   "id": "002fbe9a",
   "metadata": {},
   "source": [
    "Revisamos valores únicos en las columnas nuevamente después de la limpieza.\n"
   ]
  },
  {
   "cell_type": "code",
   "execution_count": 868,
   "id": "e10c64e8",
   "metadata": {},
   "outputs": [
    {
     "name": "stdout",
     "output_type": "stream",
     "text": [
      "Columna: Er_%\n",
      "Valores únicos:\n",
      "<IntegerArray>\n",
      "[  10, <NA>,    0,   80,  100,   15,   20,   90,    2,   85,   70,   12,   98,\n",
      "   60,    5,   95,   30,   50,    4,   65,   40,    7,    1,   55,    8,    6,\n",
      "   75,    3,   91,   25,   96,   35,   99,    9,   16]\n",
      "Length: 35, dtype: Int64\n",
      "\n",
      "Columna: Pr_%\n",
      "Valores únicos:\n",
      "<IntegerArray>\n",
      "[ 100,    5, <NA>,   60,   90,    0,   95,   40,   80,    2,   20,   70,   10,\n",
      "    3,   50,   25,   30,    8,    7,   35,   65,   75,   15,    1,   18,   22,\n",
      "   12,    4,   85,   99,   98,    6,   88,   92,   68,    9]\n",
      "Length: 36, dtype: Int64\n",
      "\n",
      "Columna Her2_/_Neu no encontrada en luminalDf\n",
      "\n",
      "Columna: Her2_Ihq_+++\n",
      "Valores únicos:\n",
      "[1 0 2 3]\n",
      "\n",
      "Columna: Fish/Sish\n",
      "Valores únicos:\n",
      "[nan 'negativo' 'positivo']\n",
      "\n",
      "Columna: Ki67_%\n",
      "Valores únicos:\n",
      "<IntegerArray>\n",
      "[   5, <NA>,   20,    0,   90,   10,   50,   40,   60,    8,   65,   80,   95,\n",
      "   25,   30,   70,   15,   45,    3,   12,   47,   14,    7,   35,    2,    1,\n",
      "   75,   87,   18,  100,   24,   55,    4,   22,   67,   72,   11,   85,    9,\n",
      "   27,   89]\n",
      "Length: 41, dtype: Int64\n",
      "\n",
      "Columna: Grado\n",
      "Valores únicos:\n",
      "<IntegerArray>\n",
      "[2, 3, <NA>, 1]\n",
      "Length: 4, dtype: Int64\n",
      "\n"
     ]
    }
   ],
   "source": [
    "#Revisamos valores únicos en las columnas nuevamente después de la limpieza\n",
    "\n",
    "for col in ['Er_%', 'Pr_%', 'Her2_/_Neu', 'Her2_Ihq_+++','Fish/Sish', 'Ki67_%', 'Grado']:\n",
    "    if col in luminalDf.columns:\n",
    "        print(f'Columna: {col}\\nValores únicos:\\n{luminalDf[col].unique()}\\n')\n",
    "\n",
    "    else:\n",
    "        print(f'Columna {col} no encontrada en luminalDf\\n')\n"
   ]
  },
  {
   "cell_type": "markdown",
   "id": "44289c7a",
   "metadata": {},
   "source": [
    "##### Ahora mostramos cuantos nulos tenemos por columna."
   ]
  },
  {
   "cell_type": "code",
   "execution_count": 869,
   "id": "1c309a98",
   "metadata": {},
   "outputs": [
    {
     "name": "stdout",
     "output_type": "stream",
     "text": [
      "Id                               0\n",
      "Fecha_De_Nacimiento              1\n",
      "Fecha_De_Dx_Biopsia              1\n",
      "Edad_Al_Dx_(Años)                0\n",
      "Fecha_1°_Consulta_Om_Cecan       3\n",
      "Imc                              0\n",
      "Er_%                            30\n",
      "Pr_%                            31\n",
      "Her2_Ihq_+++                     0\n",
      "Fish/Sish                     1253\n",
      "Ki67_%                         501\n",
      "Grado                           15\n",
      "dtype: int64\n",
      "1    819\n",
      "2    438\n",
      "0     61\n",
      "4     15\n",
      "5     13\n",
      "3      5\n",
      "Name: count, dtype: int64\n",
      "Cantidad de registros: 1351\n"
     ]
    }
   ],
   "source": [
    "print(luminalDf.isna().sum())  # Nulos por columna\n",
    "print(luminalDf.isna().sum(axis=1).value_counts()) \n",
    "\n",
    "\n",
    "print(\"Cantidad de registros:\", luminalDf.shape[0])\n"
   ]
  },
  {
   "cell_type": "markdown",
   "id": "97096f13",
   "metadata": {},
   "source": [
    "Reemplazamos los valores de las fechas con la moda, aquí no importa mucho debido a la variedad de fechas que puede haber.\n"
   ]
  },
  {
   "cell_type": "code",
   "execution_count": 870,
   "id": "0e2272b9",
   "metadata": {},
   "outputs": [],
   "source": [
    "#reemplazar fechas nulas con la fecha más común (moda)\n",
    "\n",
    "luminalDf['Fecha_De_Nacimiento'] = luminalDf['Fecha_De_Nacimiento'].fillna(luminalDf['Fecha_De_Nacimiento'].mode()[0])\n",
    "luminalDf['Fecha_De_Dx_Biopsia'] = luminalDf['Fecha_De_Dx_Biopsia'].fillna(luminalDf['Fecha_De_Dx_Biopsia'].mode()[0])\n",
    "luminalDf['Fecha_1°_Consulta_Om_Cecan'] = luminalDf['Fecha_1°_Consulta_Om_Cecan'].fillna(luminalDf['Fecha_1°_Consulta_Om_Cecan'].mode()[0])"
   ]
  },
  {
   "cell_type": "markdown",
   "id": "e0a8e9fc",
   "metadata": {},
   "source": [
    "##### Para los demás valores, buscamos con un histograma cual sería el mejor valor para reemplazarlos."
   ]
  },
  {
   "cell_type": "markdown",
   "id": "8adcdb94",
   "metadata": {},
   "source": [
    "El histograma muestra una distribución bimodal. Los valores mínimos son 0% y el máximo es 100% Una gran concentración de los registros se encuentran en 0% y la otra gran concentración en 100% . \n",
    "\n",
    "Esto dice que en la mayoría de los pacientes, la prueba de estrógeno es negativa (0%) o positiva fuerte (100%), con pocos casos intermedios. En caso de sustituir, el más recomendable es usar moda, debido que los datos se encuentran acumulados en los extremos"
   ]
  },
  {
   "cell_type": "code",
   "execution_count": 871,
   "id": "26f40419",
   "metadata": {},
   "outputs": [
    {
     "data": {
      "image/png": "[encoded data removed]",
      "text/plain": [
       "<Figure size 800x500 with 1 Axes>"
      ]
     },
     "metadata": {},
     "output_type": "display_data"
    }
   ],
   "source": [
    "plt.figure(figsize=(8,5))\n",
    "plt.hist(luminalDf['Er_%'].dropna(), bins=20, color='salmon', edgecolor='black')\n",
    "plt.title('Distribución de Er_%')\n",
    "plt.xlabel('Er_%')\n",
    "plt.ylabel('Frecuencia')\n",
    "plt.grid(axis='y', alpha=0.3)\n",
    "plt.show()"
   ]
  },
  {
   "cell_type": "markdown",
   "id": "eebadd73",
   "metadata": {},
   "source": [
    "También presenta una distribución bimodal. El valor mínimo es 0% y el valor máximo es 100%. Una gran cantidad de casos se encuentra en 0% (más de 500 casos) y la otra gran parte se encuentra en la parte alta, especialmente en 90%-100% (más de 200 casos). \n",
    "\n",
    "Esto indica que la prueba de progesterona está en negativo (0%) o muy elevada (100%). En caso de sustituir, se recomienda usar la moda, debido a los datos acumulados en los extremos."
   ]
  },
  {
   "cell_type": "code",
   "execution_count": 872,
   "id": "f91923b7",
   "metadata": {},
   "outputs": [
    {
     "data": {
      "image/png": "[encoded data removed]",
      "text/plain": [
       "<Figure size 800x500 with 1 Axes>"
      ]
     },
     "metadata": {},
     "output_type": "display_data"
    }
   ],
   "source": [
    "# Histograma que muestre el comportamiento de la columna \"Pr_%\"\n",
    "plt.figure(figsize=(8,5))\n",
    "plt.hist(luminalDf['Pr_%'].dropna(), bins=20, color='gold', edgecolor='black')\n",
    "plt.title('Distribución de Pr_%')\n",
    "plt.xlabel('Pr_%')\n",
    "plt.ylabel('Frecuencia')\n",
    "plt.grid(axis='y', alpha=0.3)\n",
    "plt.show()\n",
    "\n"
   ]
  },
  {
   "cell_type": "markdown",
   "id": "521aa779",
   "metadata": {},
   "source": [
    "Este gráfico muestra la distribución de los grados de los tumores cancerosos; lo que nos indica:\n",
    "\n",
    "1. El grado 2 es el más frecuente en la población estudiada.\n",
    "\n",
    "2. El grado 1 es menos común.\n",
    "3. El grado 3 tiene una frecuencia intermedia.\n",
    "\n",
    "Distribución desigual con predominio del grado 2"
   ]
  },
  {
   "cell_type": "code",
   "execution_count": 873,
   "id": "9633be15",
   "metadata": {},
   "outputs": [
    {
     "data": {
      "image/png": "[encoded data removed]",
      "text/plain": [
       "<Figure size 800x500 with 1 Axes>"
      ]
     },
     "metadata": {},
     "output_type": "display_data"
    }
   ],
   "source": [
    "# Histograma que muestre el comportamiento de la columna \"Grado\"\n",
    "plt.figure(figsize=(8,5))\n",
    "plt.hist(luminalDf['Grado'].dropna(), bins=range(int(luminalDf['Grado'].min()), int(luminalDf['Grado'].max())+2), color='deepskyblue', edgecolor='black', align='left', rwidth=0.8)\n",
    "plt.title('Distribución de Grado')\n",
    "plt.xlabel('Grado')\n",
    "plt.ylabel('Frecuencia')\n",
    "plt.xticks(range(int(luminalDf['Grado'].min()), int(luminalDf['Grado'].max())+1))\n",
    "plt.grid(axis='y', alpha=0.3)\n",
    "plt.show()"
   ]
  },
  {
   "cell_type": "markdown",
   "id": "d144f5ab",
   "metadata": {},
   "source": [
    "Debido a esto, es conveniente reemplazar los valores nulos con la moda en estas variables que contienen valores nulos."
   ]
  },
  {
   "cell_type": "code",
   "execution_count": 874,
   "id": "8f5a0769",
   "metadata": {},
   "outputs": [],
   "source": [
    "# Reemplazamos nulos con la moda\n",
    "\n",
    "luminalDf['Er_%'] = luminalDf['Er_%'].fillna(int(luminalDf['Er_%'].mode().iloc[0])) # Usamos iloc[0] para evitar una advertencia de uso\n",
    "luminalDf['Pr_%'] = luminalDf['Pr_%'].fillna(int(luminalDf['Pr_%'].mode().iloc[0]))\n",
    "luminalDf['Grado'] = luminalDf['Grado'].fillna(int(luminalDf['Grado'].mode().iloc[0]))"
   ]
  },
  {
   "cell_type": "markdown",
   "id": "fad4aa2b",
   "metadata": {},
   "source": [
    "Nos aseguramos que ya llenamos los nulos que pueden ser reemplazados."
   ]
  },
  {
   "cell_type": "code",
   "execution_count": 875,
   "id": "80686cf4",
   "metadata": {},
   "outputs": [
    {
     "name": "stdout",
     "output_type": "stream",
     "text": [
      "Id                               0\n",
      "Fecha_De_Nacimiento              0\n",
      "Fecha_De_Dx_Biopsia              0\n",
      "Edad_Al_Dx_(Años)                0\n",
      "Fecha_1°_Consulta_Om_Cecan       0\n",
      "Imc                              0\n",
      "Er_%                             0\n",
      "Pr_%                             0\n",
      "Her2_Ihq_+++                     0\n",
      "Fish/Sish                     1253\n",
      "Ki67_%                         501\n",
      "Grado                            0\n",
      "dtype: int64\n",
      "1    826\n",
      "2    464\n",
      "0     61\n",
      "Name: count, dtype: int64\n"
     ]
    }
   ],
   "source": [
    "# Mostramos los valores nulos restantes\n",
    "\n",
    "print(luminalDf.isna().sum()) \n",
    "print(luminalDf.isna().sum(axis=1).value_counts()) "
   ]
  },
  {
   "cell_type": "markdown",
   "id": "9a2e8a75",
   "metadata": {},
   "source": [
    "---\n",
    "##### 2. Catalogación de Datos"
   ]
  },
  {
   "cell_type": "markdown",
   "id": "66ba6d53",
   "metadata": {},
   "source": [
    "---\n",
    "### Para la siguiente parte consideramos lo siguiente...\n",
    "\n",
    "##### Criterios para catalogar luminales\n",
    "\n",
    "- Si el porcentaje de estrógeno (Er_%) > 50, el Receptor E es Triple Positivo (+++).\n",
    "- Si el porcentaje de estrógeno (Er_%) <= 50 y > 0, el Receptor E es Doble Positivo (++).\n",
    "\n",
    "- Si el porcentaje de progesterona (Pr_%) > 20, el Receptor Pr es Triple Positivo (+++).\n",
    "- Si Her2_Ihq+++ es \"0+\" o \"1+\", el tumor es de HER2 Negativo.\n",
    "- Si Her2_Ihq+++ es \"2+\", se requiere Fish/Sish para confirmar (y tendría que ser un Fish/Sish Negativo para que el HER2 sea Negativo).\n",
    "\n",
    "\n",
    "\n",
    "\n"
   ]
  },
  {
   "cell_type": "markdown",
   "id": "bb33a914",
   "metadata": {},
   "source": [
    "\n",
    "---\n",
    "\n"
   ]
  },
  {
   "cell_type": "markdown",
   "id": "c386b8ee",
   "metadata": {},
   "source": [
    "##### Buscamos los datos que ya nos permiten generar una respuesta y creamos las columnas correspondientes."
   ]
  },
  {
   "cell_type": "code",
   "execution_count": 876,
   "id": "61133c76",
   "metadata": {},
   "outputs": [
    {
     "name": "stdout",
     "output_type": "stream",
     "text": [
      "['+++' '+/-' '-']\n"
     ]
    }
   ],
   "source": [
    "# Para determinar nuestro Receptor Pr, sabemos que...\n",
    "\n",
    "luminalDf['Receptor_Pr'] = '-' # Inicializamos la columna con '-'\n",
    "luminalDf.loc[luminalDf['Pr_%'] > 20, 'Receptor_Pr'] = '+++' # Receptor Pr es +++ si Pr_% > 20\n",
    "luminalDf.loc[(luminalDf['Pr_%'] <= 20) & (luminalDf['Pr_%'] > 0), 'Receptor_Pr'] = '+/-' # sabemos que esto es + o - \n",
    "\n",
    "#Confirmamos el reemplazo adecuado\n",
    "print(luminalDf['Receptor_Pr'].unique()) "
   ]
  },
  {
   "cell_type": "markdown",
   "id": "06800283",
   "metadata": {},
   "source": [
    "Filtramos los que sabemos que no pueden ser luminales por porcentaje de Ki67"
   ]
  },
  {
   "cell_type": "code",
   "execution_count": 877,
   "id": "91b476c1",
   "metadata": {},
   "outputs": [],
   "source": [
    "# Sabemos que un Ki67 > 30% es alto, cuando es alto entonces no aplica para los luminales A o B\n",
    "\n",
    "\n",
    "luminalDf = luminalDf[luminalDf['Ki67_%'] <= 30]\n"
   ]
  },
  {
   "cell_type": "code",
   "execution_count": 878,
   "id": "a48faf70",
   "metadata": {},
   "outputs": [
    {
     "name": "stdout",
     "output_type": "stream",
     "text": [
      "Cantidad de registros: 549\n"
     ]
    }
   ],
   "source": [
    "print(\"Cantidad de registros:\", luminalDf['Ki67_%'].shape[0])"
   ]
  },
  {
   "cell_type": "markdown",
   "id": "ec717dd0",
   "metadata": {},
   "source": [
    "Sabemos que el Receptor E debe ser triple o doble positivo para catalogar como luminal."
   ]
  },
  {
   "cell_type": "code",
   "execution_count": 879,
   "id": "e65edabe",
   "metadata": {},
   "outputs": [
    {
     "name": "stdout",
     "output_type": "stream",
     "text": [
      "['++' '+++']\n"
     ]
    }
   ],
   "source": [
    "# Un Er_% mayor a 0 es requisito para ser luminal A o B\n",
    "\n",
    "luminalDf = luminalDf[luminalDf['Er_%'] > 0]\n",
    "\n",
    "# Un Er_% mayor a 50% es triple positivo, si es menor o igual a 50% es doble positivo\n",
    "\n",
    "luminalDf['Receptor_E'] = '+++'\n",
    "luminalDf.loc[luminalDf['Er_%'] <= 50, 'Receptor_E'] = '++'\n",
    "\n",
    "print(luminalDf['Receptor_E'].unique()) # Confirmamos el reemplazo adecuado\n"
   ]
  },
  {
   "cell_type": "markdown",
   "id": "b7b974c7",
   "metadata": {},
   "source": [
    "Sabemos que si el Her2_Ihq+++ es 0+ o 1+ entonces es HER2 negativo, por lo que nos deshacemos del 3+"
   ]
  },
  {
   "cell_type": "code",
   "execution_count": 880,
   "id": "18acac28",
   "metadata": {},
   "outputs": [],
   "source": [
    "# Reducimos nuestra base de datos\n",
    "\n",
    "luminalDf = luminalDf[luminalDf['Her2_Ihq_+++'] <= 2]"
   ]
  },
  {
   "cell_type": "code",
   "execution_count": 881,
   "id": "6521a732",
   "metadata": {},
   "outputs": [
    {
     "name": "stdout",
     "output_type": "stream",
     "text": [
      "Cantidad de registros: 387\n"
     ]
    }
   ],
   "source": [
    "print(\"Cantidad de registros:\", luminalDf.shape[0])"
   ]
  },
  {
   "cell_type": "markdown",
   "id": "76c011ba",
   "metadata": {},
   "source": [
    "Si el Her2_Ihq+++ es 2+, sabemos que para ser un HER2 negativo se necesita el Fish/Sish negativo"
   ]
  },
  {
   "cell_type": "code",
   "execution_count": 882,
   "id": "b0c26ca4",
   "metadata": {},
   "outputs": [
    {
     "name": "stdout",
     "output_type": "stream",
     "text": [
      "Her2_Ihq_+++    0\n",
      "dtype: int64\n"
     ]
    }
   ],
   "source": [
    "# Si el Her2_Ihq+++ es 2+, sabemos que para ser un HER2 negativo se necesita el Fish/Sish negativo\n",
    "\n",
    "luminalDf = luminalDf[~((luminalDf['Her2_Ihq_+++'] == 2) & (luminalDf['Fish/Sish'] == 'negativo'))] # Nos deshacemos de los registros donde Her2_Ihq_+++ es 2+ pero Fish/Sish no es negativo\n",
    "\n",
    "\n",
    "print(luminalDf[(luminalDf['Fish/Sish'] == 'negativo')][['Her2_Ihq_+++']].sum()) # Mostramos la suma de Her2_Ihq_+++ donde Fish/Sish es negativo\n",
    "\n"
   ]
  },
  {
   "cell_type": "markdown",
   "id": "2396bf3a",
   "metadata": {},
   "source": [
    "No hubo valores de HER2 fueron negativos teniendo en cuenta el Fish y el her2_ihq+++ como 2+.\n",
    "\n",
    "---"
   ]
  },
  {
   "cell_type": "code",
   "execution_count": 883,
   "id": "c22e7b4c",
   "metadata": {},
   "outputs": [
    {
     "name": "stdout",
     "output_type": "stream",
     "text": [
      "Cantidad de registros: 375\n"
     ]
    }
   ],
   "source": [
    "print(\"Cantidad de registros:\", luminalDf.shape[0])"
   ]
  },
  {
   "cell_type": "markdown",
   "id": "c1cd8ee4",
   "metadata": {},
   "source": [
    "##### Criterios para catalogar diferenciar Luminales Tipo A y B\n",
    "\n",
    "- Si el Receptor Pr es Triple Negativo el tumor es Luminal A, si es Positivo o Negativo podría ser Luminal B.\n",
    "\n",
    "- Si el Grado es 1 el tumor es Luminal A, si es 2 entonces podría tanto A cómo B, si es 3 podría ser Luminal B o cualquier otro fuera de nuestro enfoque.\n",
    "\n",
    "- Si el porcentaje de Ki67 es menor del 14%, el tumor es Luminal A, si está entre 14% - 30%, podría ser Luminal B, sin embargo también podría ser fuera de nuestro enfoque.\n",
    "\n",
    "\n"
   ]
  },
  {
   "cell_type": "code",
   "execution_count": 889,
   "id": "3a6ebd68",
   "metadata": {},
   "outputs": [
    {
     "name": "stdout",
     "output_type": "stream",
     "text": [
      "Tipo_Luminal\n",
      "No Luminal    224\n",
      "Luminal A     136\n",
      "Luminal B      15\n",
      "Name: count, dtype: int64\n"
     ]
    }
   ],
   "source": [
    "def catalogar_luminal(row):\n",
    "\n",
    "    #No estamos considerando todo lo que fue excluido previamente, por lo que no es necesario validar esas condiciones\n",
    "    # Todos los HER2 restantes son negativos, por lo que no es necesario validar Her2_Ihq_+++ ni Fish/Sish\n",
    "\n",
    "    if row['Receptor_Pr'] == '+++' and row['Receptor_E'] == '+++' and row['Ki67_%'] < 14:\n",
    "        return 'Luminal A'\n",
    "\n",
    "    elif (row['Receptor_Pr'] in ['+/-', '-'] and row['Receptor_E'] == '++' and (row['Ki67_%'] >= 14 and row['Ki67_%'] <= 30)\n",
    "          and (row['Grado'] == 2 or row['Grado'] == 3)):\n",
    "        return 'Luminal B'\n",
    "\n",
    "    else:\n",
    "        return 'No Luminal'\n",
    "\n",
    "luminalDf['Tipo_Luminal'] = luminalDf.apply(catalogar_luminal, axis=1)\n",
    "\n",
    "print(luminalDf['Tipo_Luminal'].value_counts()) "
   ]
  },
  {
   "cell_type": "markdown",
   "id": "b6c67ca6",
   "metadata": {},
   "source": [
    "Tenemos que \n",
    "- 136 casos son tipo A\n",
    "- 15 son tipo B\n",
    "- 224 no son luminales o hay datos con conflicto entre ellos\n"
   ]
  }
 ],
 "metadata": {
  "kernelspec": {
   "display_name": "Python 3",
   "language": "python",
   "name": "python3"
  },
  "language_info": {
   "codemirror_mode": {
    "name": "ipython",
    "version": 3
   },
   "file_extension": ".py",
   "mimetype": "text/x-python",
   "name": "python",
   "nbconvert_exporter": "python",
   "pygments_lexer": "ipython3",
   "version": "3.13.1"
  }
 },
 "nbformat": 4,
 "nbformat_minor": 5
}
