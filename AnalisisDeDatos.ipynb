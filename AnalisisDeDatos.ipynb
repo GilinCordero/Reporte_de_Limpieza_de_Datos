{
 "cells": [
  {
   "cell_type": "markdown",
   "id": "40e3a732",
   "metadata": {},
   "source": [
    "# Análisis y Limpieza de Datos -- Procedimiento para Catalogar Cáncer Luminal A y B\n",
    "\n",
    "Este archivo contiene el proceso de limpieza, exploración y análisis de la base de datos del proyecto de de cáncer de mama en base a la información de los diagnosticos de diversos pacientes registrados por la Secretaria de Salud.\n",
    "\n",
    "mas info sobre lo q buscamos\n",
    "\n",
    "\n",
    "---"
   ]
  },
  {
   "cell_type": "markdown",
   "id": "cfa0ecce",
   "metadata": {},
   "source": []
  },
  {
   "cell_type": "code",
   "execution_count": 9,
   "id": "0927935f",
   "metadata": {},
   "outputs": [
    {
     "name": "stdout",
     "output_type": "stream",
     "text": [
      "Numero de columnas/variables: 111 \n",
      "\n",
      "Columnas identificadas: \n",
      " ['Id', 'Fecha_De_Registro', 'Fecha_De_Nacimiento', 'Fecha_De_Dx_Biopsia', 'Edad_Al_Dx_(Años)', 'Fecha_1°_Consulta_Om_Cecan', 'Peso_Al_Dx', 'Talla_Al_Dx', 'Imc', 'Edo_Menopausia_Dx', 'Preservación_De_La_Fertilidad', 'Prueba_Genetica', 'Resultado_Panel_Genético', 'Otra_Mutación', 'Significado', 'Cm_Bilateral', 'Cm_Asociado_Al_Embarazo', 'Ec', 'T', 'N', 'M', 'Tipo_Histológico', 'Otro', 'Grado', 'Er', 'Er_%', 'Pr', 'Pr_%', 'Her2_/_Neu', 'Her2_Ihq_+++', 'Fish/Sish', 'Ki67', 'Ki67_%', 'Ilv', 'Tils', 'Tils_%', 'Patología_Rev_Cecan', 'Tx_Neoadyuvante', 'Tx_Neoadyuvante_Cecan', 'Quimioterapia_Neoadyuvante', 'Esquema_Qt_Neoadyuvante', 'Antiher2_Neoadyuvante', 'Esquema_Antiher2_Neoadyuvante', 'Inmunoterapia_Neoadyuvante', 'Comentarios_Tx_Neoadyuvante', 'Respuesta_Patológica_Completa', 'Ypt', 'Ypn', 'Rbc', 'Fecha_De_Cx', 'Cx_Cecan', 'Tipo_Cx_Mama', 'Manejo_Axila', 'Requirio_2°_Cx_De_Mama', 'Cual', 'Rt_Adyuvante', 'Tipo_Rt_Ady', 'Analógos_Gnrh_Como_Protector_Ovarico', 'Tx_Adyuvante', 'Tx_Adyuvante_Cecan', 'Quimioterapia_Adyuvante', 'Esquema_Qt_Adyuvante', 'Capecitabina', 'Antiher2_Adyuvante', 'Esquema_Antiher2_Adyuvante', 'Inmunoterapia_Adyuvante', 'Olaparib_Adyuvante', 'Abemaciclib_Adyuvante', 'Adyuvancia_Endócrina_', 'Adyuvancia_Endócrina_Cecan', 'Tipo_Tx_Antihormonal_(2_Primeros_Años)', 'Switch_Hormonal_(Despues_De_2_Años)', 'Supresión_Ovarica', 'Fecha_Inicio_Adyuvancia_Endócrina', 'Fin_De_Adyuvancia_Endócrina', 'Fecha_Fin_Adyuvancia_Endócrina', 'Adyuvancia_Extendida', 'Ac._Zoledrónico/Denosumab_Adyuvante', 'Recurrencia_Local', 'Fecha_1°_Recurrencia_Local', 'Sle_(Meses)', 'No._De_Recurrencias_Locales', 'Recurrencia_Sistémica', 'Fecha_1°_Recurrencia_Sistémica', 'Slem_(Meses)', 'Biopsia_De_1°_Recurrencia_(Local_O_Sistémica)', 'Er_Recurrencia', 'Er_%', 'Pr_Recurrencia', 'Pr_%', 'Her2_Ihq_Recurrencia', 'Her2_Ihq_+++.1', 'Icdk_4/6_Enfermedad__Metastásica', 'Tipo_Icdk_4/6', 'Inmunoterapia_Enfermedad_Metastásica', 'Tipo_Inmunoterapia', 'Iparp_Enfermedad_Metastásica', 'Estado_En_Ultimo_Seguimiento', 'Fecha_De_Ultimo_Seguimiento', 'Fecha_De_Muerte', 'Seguimiento_(Meses)', 'Sg_(Meses)', 'Muerte_Por_Ca_De_Mama', 'Ooforectomía', 'Mastecomía_Contralateral_2°_Tiempo', 'Embarazo_Post_Cm', '2°_Primario', 'Sitio', 'Protocolo_De_Investigación_', 'Nombre_De_Protocolo', 'Comentarios']\n"
     ]
    }
   ],
   "source": [
    "import pandas as pd\n",
    "\n",
    "#Leemos la Base de Datos\n",
    "df = pd.read_csv('./resources/2025_08_27 BD Proy Salud.csv', encoding='latin1')\n",
    "pd.set_option('display.max_columns', None)\n",
    "\n",
    "#Renombramos columnas para agregar _ entre espacios\n",
    "\n",
    "df.columns = df.columns.str.replace(' ', '_')\n",
    "df.columns = df.columns.str.title()\n",
    "\n",
    "#Sacamos columnas disponibles para facilidad de lectura posterior\n",
    "unique_columns = df.columns.tolist()\n",
    "\n",
    "print(\"Numero de columnas/variables:\", len(unique_columns), \"\\n\")\n",
    "print(\"Columnas identificadas: \\n\", unique_columns)\n"
   ]
  },
  {
   "cell_type": "markdown",
   "id": "692a6b98",
   "metadata": {},
   "source": [
    "Modificamos los nombres de las columnas para manipularlas de manera más sencilla"
   ]
  },
  {
   "cell_type": "markdown",
   "id": "88e28679",
   "metadata": {},
   "source": [
    "---\n",
    "Creamos una sub-tabla con las columnas que corresponden a el objetivo de nuestro análisis\n"
   ]
  },
  {
   "cell_type": "code",
   "execution_count": 10,
   "id": "ac6f6fae",
   "metadata": {},
   "outputs": [
    {
     "data": {
      "text/html": [
       "<div>\n",
       "<style scoped>\n",
       "    .dataframe tbody tr th:only-of-type {\n",
       "        vertical-align: middle;\n",
       "    }\n",
       "\n",
       "    .dataframe tbody tr th {\n",
       "        vertical-align: top;\n",
       "    }\n",
       "\n",
       "    .dataframe thead th {\n",
       "        text-align: right;\n",
       "    }\n",
       "</style>\n",
       "<table border=\"1\" class=\"dataframe\">\n",
       "  <thead>\n",
       "    <tr style=\"text-align: right;\">\n",
       "      <th></th>\n",
       "      <th>Id</th>\n",
       "      <th>Fecha_De_Registro</th>\n",
       "      <th>Fecha_De_Nacimiento</th>\n",
       "      <th>Fecha_De_Dx_Biopsia</th>\n",
       "      <th>Edad_Al_Dx_(Años)</th>\n",
       "      <th>Fecha_1°_Consulta_Om_Cecan</th>\n",
       "      <th>Peso_Al_Dx</th>\n",
       "      <th>Talla_Al_Dx</th>\n",
       "      <th>Er_%</th>\n",
       "      <th>Er_%</th>\n",
       "      <th>Pr_%</th>\n",
       "      <th>Pr_%</th>\n",
       "      <th>Her2_/_Neu</th>\n",
       "      <th>Her2_Ihq_+++</th>\n",
       "      <th>Fish/Sish</th>\n",
       "      <th>Ki67_%</th>\n",
       "      <th>Grado</th>\n",
       "    </tr>\n",
       "  </thead>\n",
       "  <tbody>\n",
       "    <tr>\n",
       "      <th>0</th>\n",
       "      <td>1003-24</td>\n",
       "      <td>1/5/2024</td>\n",
       "      <td>9/28/1977</td>\n",
       "      <td>11/24/2023</td>\n",
       "      <td>46</td>\n",
       "      <td>1/5/2024</td>\n",
       "      <td>76</td>\n",
       "      <td>1.64</td>\n",
       "      <td>10</td>\n",
       "      <td>No aplica</td>\n",
       "      <td>100</td>\n",
       "      <td>No aplica</td>\n",
       "      <td>Negativo</td>\n",
       "      <td>1+</td>\n",
       "      <td>No aplica</td>\n",
       "      <td>5</td>\n",
       "      <td>2</td>\n",
       "    </tr>\n",
       "    <tr>\n",
       "      <th>1</th>\n",
       "      <td>1008-18</td>\n",
       "      <td>1/25/2018</td>\n",
       "      <td>4/1/1961</td>\n",
       "      <td>1/12/2018</td>\n",
       "      <td>56</td>\n",
       "      <td>1/25/2018</td>\n",
       "      <td>102</td>\n",
       "      <td>1.61</td>\n",
       "      <td>10</td>\n",
       "      <td>15</td>\n",
       "      <td>5</td>\n",
       "      <td>0</td>\n",
       "      <td>Negativo</td>\n",
       "      <td>1+</td>\n",
       "      <td>No aplica</td>\n",
       "      <td>No aplica</td>\n",
       "      <td>3</td>\n",
       "    </tr>\n",
       "    <tr>\n",
       "      <th>2</th>\n",
       "      <td>1008-20</td>\n",
       "      <td>12/3/2019</td>\n",
       "      <td>2/10/1979</td>\n",
       "      <td>1/4/2020</td>\n",
       "      <td>40</td>\n",
       "      <td>1/17/2020</td>\n",
       "      <td>47</td>\n",
       "      <td>1.58</td>\n",
       "      <td>No aplica</td>\n",
       "      <td>No aplica</td>\n",
       "      <td>No aplica</td>\n",
       "      <td>No aplica</td>\n",
       "      <td>No aplica</td>\n",
       "      <td>No aplica</td>\n",
       "      <td>No aplica</td>\n",
       "      <td>No aplica</td>\n",
       "      <td>No aplica</td>\n",
       "    </tr>\n",
       "    <tr>\n",
       "      <th>3</th>\n",
       "      <td>1009-19</td>\n",
       "      <td>1/14/2019</td>\n",
       "      <td>1/23/1975</td>\n",
       "      <td>11/6/2018</td>\n",
       "      <td>43</td>\n",
       "      <td>1/14/2019</td>\n",
       "      <td>46</td>\n",
       "      <td>1.52</td>\n",
       "      <td>0</td>\n",
       "      <td>No aplica</td>\n",
       "      <td>60</td>\n",
       "      <td>No aplica</td>\n",
       "      <td>Negativo</td>\n",
       "      <td>1+</td>\n",
       "      <td>No aplica</td>\n",
       "      <td>20</td>\n",
       "      <td>1</td>\n",
       "    </tr>\n",
       "    <tr>\n",
       "      <th>4</th>\n",
       "      <td>1009-23</td>\n",
       "      <td>1/23/2023</td>\n",
       "      <td>11/30/1974</td>\n",
       "      <td>12/30/2022</td>\n",
       "      <td>48</td>\n",
       "      <td>1/25/2023</td>\n",
       "      <td>89</td>\n",
       "      <td>1.58</td>\n",
       "      <td>80</td>\n",
       "      <td>No aplica</td>\n",
       "      <td>90</td>\n",
       "      <td>No aplica</td>\n",
       "      <td>Negativo</td>\n",
       "      <td>0+</td>\n",
       "      <td>No aplica</td>\n",
       "      <td>No aplica</td>\n",
       "      <td>2</td>\n",
       "    </tr>\n",
       "  </tbody>\n",
       "</table>\n",
       "</div>"
      ],
      "text/plain": [
       "        Id Fecha_De_Registro Fecha_De_Nacimiento Fecha_De_Dx_Biopsia  \\\n",
       "0  1003-24          1/5/2024           9/28/1977          11/24/2023   \n",
       "1  1008-18         1/25/2018            4/1/1961           1/12/2018   \n",
       "2  1008-20         12/3/2019           2/10/1979            1/4/2020   \n",
       "3  1009-19         1/14/2019           1/23/1975           11/6/2018   \n",
       "4  1009-23         1/23/2023          11/30/1974          12/30/2022   \n",
       "\n",
       "   Edad_Al_Dx_(Años) Fecha_1°_Consulta_Om_Cecan  Peso_Al_Dx  Talla_Al_Dx  \\\n",
       "0                 46                   1/5/2024          76         1.64   \n",
       "1                 56                  1/25/2018         102         1.61   \n",
       "2                 40                  1/17/2020          47         1.58   \n",
       "3                 43                  1/14/2019          46         1.52   \n",
       "4                 48                  1/25/2023          89         1.58   \n",
       "\n",
       "        Er_%       Er_%       Pr_%       Pr_% Her2_/_Neu Her2_Ihq_+++  \\\n",
       "0         10  No aplica        100  No aplica  Negativo            1+   \n",
       "1         10         15          5          0   Negativo           1+   \n",
       "2  No aplica  No aplica  No aplica  No aplica  No aplica    No aplica   \n",
       "3          0  No aplica         60  No aplica   Negativo           1+   \n",
       "4         80  No aplica         90  No aplica   Negativo           0+   \n",
       "\n",
       "   Fish/Sish     Ki67_%      Grado  \n",
       "0  No aplica          5          2  \n",
       "1  No aplica  No aplica          3  \n",
       "2  No aplica  No aplica  No aplica  \n",
       "3  No aplica         20          1  \n",
       "4  No aplica  No aplica          2  "
      ]
     },
     "execution_count": 10,
     "metadata": {},
     "output_type": "execute_result"
    }
   ],
   "source": [
    "\n",
    "luminal_columns = [\n",
    "    'Id', 'Fecha_De_Registro', 'Fecha_De_Nacimiento', 'Fecha_De_Dx_Biopsia', 'Edad_Al_Dx_(Años)',\n",
    "    'Fecha_1°_Consulta_Om_Cecan', 'Peso_Al_Dx', 'Talla_Al_Dx', 'Er_%', 'Pr_%', 'Her2_/_Neu',\n",
    "    'Her2_Ihq_+++','Fish/Sish', 'Ki67_%', 'Grado'\n",
    "]\n",
    "\n",
    "#Nuevo DataFrame con columnas de interés   \n",
    "luminalDf = df[luminal_columns]\n",
    "\n",
    "pd.set_option('display.max_columns', None)\n",
    "luminalDf.head()\n"
   ]
  },
  {
   "cell_type": "markdown",
   "id": "5ffb2c45",
   "metadata": {},
   "source": [
    "# Antes de comenzar...\n",
    "\n",
    "Previo a entender los datos, necesitamos limpiar repeticiones, datos redundantes entre otros errores\n"
   ]
  },
  {
   "cell_type": "code",
   "execution_count": 11,
   "id": "40cac6e5",
   "metadata": {},
   "outputs": [
    {
     "name": "stdout",
     "output_type": "stream",
     "text": [
      "Cantidad de registros: 1366\n"
     ]
    }
   ],
   "source": [
    "#Observamos la cantidad de registros que tenemos\n",
    "\n",
    "print(\"Cantidad de registros:\", luminalDf.shape[0])\n"
   ]
  },
  {
   "cell_type": "code",
   "execution_count": 12,
   "id": "ad1a9d8b",
   "metadata": {},
   "outputs": [
    {
     "name": "stdout",
     "output_type": "stream",
     "text": [
      "Cantidad de registros después de la limpieza: 1351\n"
     ]
    }
   ],
   "source": [
    "#Limpiamos IDs repetidos y nulos, nos quedamos con los primeros repetidos\n",
    "\n",
    "df = df.drop_duplicates(subset=['Id'], keep='first')\n",
    "df = df[df['Id'].notna()]\n",
    "\n",
    "#Mostramos la cantidad de registros después de la limpieza\n",
    "print(\"Cantidad de registros después de la limpieza:\", df.shape[0])"
   ]
  },
  {
   "cell_type": "markdown",
   "id": "bbaaf73f",
   "metadata": {},
   "source": [
    "- Al menos 15 registros estaban duplicados o nulos"
   ]
  },
  {
   "cell_type": "code",
   "execution_count": 13,
   "id": "12b81231",
   "metadata": {},
   "outputs": [
    {
     "data": {
      "text/plain": [
       "0    2\n",
       "1    3\n",
       "Name: Grado, dtype: object"
      ]
     },
     "execution_count": 13,
     "metadata": {},
     "output_type": "execute_result"
    }
   ],
   "source": [
    "luminalDf['Grado'].head(2)"
   ]
  },
  {
   "cell_type": "markdown",
   "id": "7253e8e4",
   "metadata": {},
   "source": [
    "##### Analizamos los tipos de datos de las columnas"
   ]
  },
  {
   "cell_type": "code",
   "execution_count": 14,
   "id": "2ccefa1e",
   "metadata": {},
   "outputs": [
    {
     "name": "stdout",
     "output_type": "stream",
     "text": [
      "Tipos de datos de cada columna:\n",
      "Id                             object\n",
      "Fecha_De_Registro              object\n",
      "Fecha_De_Nacimiento            object\n",
      "Fecha_De_Dx_Biopsia            object\n",
      "Edad_Al_Dx_(Años)               int64\n",
      "Fecha_1°_Consulta_Om_Cecan     object\n",
      "Peso_Al_Dx                      int64\n",
      "Talla_Al_Dx                   float64\n",
      "Er_%                           object\n",
      "Er_%                           object\n",
      "Pr_%                           object\n",
      "Pr_%                           object\n",
      "Her2_/_Neu                     object\n",
      "Her2_Ihq_+++                   object\n",
      "Fish/Sish                      object\n",
      "Ki67_%                         object\n",
      "Grado                          object\n",
      "dtype: object\n"
     ]
    }
   ],
   "source": [
    "\n",
    "pd.set_option('display.max_rows', None)\n",
    "\n",
    "print(\"Tipos de datos de cada columna:\")\n",
    "print(luminalDf.dtypes)\n"
   ]
  },
  {
   "cell_type": "markdown",
   "id": "121b5823",
   "metadata": {},
   "source": [
    "##### Podemos identificar varios tipos de datos que no son correctos\n",
    "\n",
    "- Podemos convertir las fechas a datetime.\n",
    "- Los valores de Er_% y Pr_% deben ser convertidos a enteros.\n",
    "\n"
   ]
  },
  {
   "cell_type": "code",
   "execution_count": 15,
   "id": "8e4a649d",
   "metadata": {},
   "outputs": [
    {
     "ename": "TypeError",
     "evalue": "arg must be a list, tuple, 1-d array, or Series",
     "output_type": "error",
     "traceback": [
      "\u001b[31m---------------------------------------------------------------------------\u001b[39m",
      "\u001b[31mTypeError\u001b[39m                                 Traceback (most recent call last)",
      "\u001b[36mCell\u001b[39m\u001b[36m \u001b[39m\u001b[32mIn[15]\u001b[39m\u001b[32m, line 11\u001b[39m\n\u001b[32m      9\u001b[39m \u001b[38;5;66;03m#convertimos Er_% y Pr_% a enteros\u001b[39;00m\n\u001b[32m     10\u001b[39m \u001b[38;5;28;01mfor\u001b[39;00m col \u001b[38;5;129;01min\u001b[39;00m [\u001b[33m'\u001b[39m\u001b[33mEr_\u001b[39m\u001b[33m%\u001b[39m\u001b[33m'\u001b[39m, \u001b[33m'\u001b[39m\u001b[33mPr_\u001b[39m\u001b[33m%\u001b[39m\u001b[33m'\u001b[39m, \u001b[33m'\u001b[39m\u001b[33mKi67_\u001b[39m\u001b[33m%\u001b[39m\u001b[33m'\u001b[39m]:\n\u001b[32m---> \u001b[39m\u001b[32m11\u001b[39m     luminalDf[col] = \u001b[43mpd\u001b[49m\u001b[43m.\u001b[49m\u001b[43mto_numeric\u001b[49m\u001b[43m(\u001b[49m\u001b[43mluminalDf\u001b[49m\u001b[43m[\u001b[49m\u001b[43mcol\u001b[49m\u001b[43m]\u001b[49m\u001b[43m,\u001b[49m\u001b[43m \u001b[49m\u001b[43merrors\u001b[49m\u001b[43m=\u001b[49m\u001b[33;43m'\u001b[39;49m\u001b[33;43mcoerce\u001b[39;49m\u001b[33;43m'\u001b[39;49m\u001b[43m)\u001b[49m.astype(\u001b[33m'\u001b[39m\u001b[33mInt64\u001b[39m\u001b[33m'\u001b[39m)\n\u001b[32m     12\u001b[39m \u001b[38;5;28mprint\u001b[39m(luminalDf[columnasFechas].dtypes)\n",
      "\u001b[36mFile \u001b[39m\u001b[32m~\\AppData\\Roaming\\Python\\Python313\\site-packages\\pandas\\core\\tools\\numeric.py:209\u001b[39m, in \u001b[36mto_numeric\u001b[39m\u001b[34m(arg, errors, downcast, dtype_backend)\u001b[39m\n\u001b[32m    207\u001b[39m     values = np.array([arg], dtype=\u001b[33m\"\u001b[39m\u001b[33mO\u001b[39m\u001b[33m\"\u001b[39m)\n\u001b[32m    208\u001b[39m \u001b[38;5;28;01melif\u001b[39;00m \u001b[38;5;28mgetattr\u001b[39m(arg, \u001b[33m\"\u001b[39m\u001b[33mndim\u001b[39m\u001b[33m\"\u001b[39m, \u001b[32m1\u001b[39m) > \u001b[32m1\u001b[39m:\n\u001b[32m--> \u001b[39m\u001b[32m209\u001b[39m     \u001b[38;5;28;01mraise\u001b[39;00m \u001b[38;5;167;01mTypeError\u001b[39;00m(\u001b[33m\"\u001b[39m\u001b[33marg must be a list, tuple, 1-d array, or Series\u001b[39m\u001b[33m\"\u001b[39m)\n\u001b[32m    210\u001b[39m \u001b[38;5;28;01melse\u001b[39;00m:\n\u001b[32m    211\u001b[39m     values = arg\n",
      "\u001b[31mTypeError\u001b[39m: arg must be a list, tuple, 1-d array, or Series"
     ]
    }
   ],
   "source": [
    "\n",
    "#Cambiamos fechas a datetime\n",
    "for col in luminalDf.columns:\n",
    "    if 'Fecha' in col:\n",
    "        luminalDf[col] = pd.to_datetime(luminalDf[col], errors='coerce') \n",
    "\n",
    "columnasFechas = [col for col in luminalDf.columns if 'Fecha' in col]\n",
    "\n",
    "\n",
    "#convertimos Er_% y Pr_% a enteros\n",
    "for col in ['Er_%', 'Pr_%', 'Ki67_%']:\n",
    "    luminalDf[col] = pd.to_numeric(luminalDf[col], errors='coerce').astype('Int64')\n",
    "print(luminalDf[columnasFechas].dtypes)"
   ]
  },
  {
   "cell_type": "code",
   "execution_count": null,
   "id": "c81a176c",
   "metadata": {},
   "outputs": [],
   "source": [
    "luminalDf.head()"
   ]
  },
  {
   "cell_type": "code",
   "execution_count": null,
   "id": "5cd249c3",
   "metadata": {},
   "outputs": [],
   "source": [
    "#Obtenemos datos únicos para cada columna para estas columnas 'Er_%', 'Pr_%', 'Her2_/_Neu', que añada cada columna a un csv independiente\n",
    "\n",
    "try:\n",
    "    for col in df.columns:\n",
    "\n",
    "        print(f'Columna: {col}\\nValores únicos:\\n{luminalDf[col].unique()}\\n')\n",
    "    \n",
    "            \n",
    "except Exception as e:\n",
    "    pass\n",
    "\n",
    "\n",
    "\n",
    "#.to_csv(f'./data_unclean/unique_{df[col].name}.csv', index=False)\n"
   ]
  }
 ],
 "metadata": {
  "kernelspec": {
   "display_name": "Python 3",
   "language": "python",
   "name": "python3"
  },
  "language_info": {
   "codemirror_mode": {
    "name": "ipython",
    "version": 3
   },
   "file_extension": ".py",
   "mimetype": "text/x-python",
   "name": "python",
   "nbconvert_exporter": "python",
   "pygments_lexer": "ipython3",
   "version": "3.13.1"
  }
 },
 "nbformat": 4,
 "nbformat_minor": 5
}
